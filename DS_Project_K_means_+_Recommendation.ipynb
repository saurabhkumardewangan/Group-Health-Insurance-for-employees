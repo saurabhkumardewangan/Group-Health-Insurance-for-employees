{
  "nbformat": 4,
  "nbformat_minor": 0,
  "metadata": {
    "colab": {
      "name": "DS_Project_K_means_+_Recommendation.ipynb",
      "provenance": [],
      "collapsed_sections": []
    },
    "kernelspec": {
      "name": "python3",
      "display_name": "Python 3"
    },
    "language_info": {
      "name": "python"
    },
    "accelerator": "GPU"
  },
  "cells": [
    {
      "cell_type": "markdown",
      "metadata": {
        "id": "c4xjAki4iWc5"
      },
      "source": [
        "# Data Science Project : **Group Health Insurance**"
      ]
    },
    {
      "cell_type": "markdown",
      "metadata": {
        "id": "eTt4PXPSi4za"
      },
      "source": [
        "### Business Objective : **Maximize the Productivity of Employee by choosing best policy from Market** "
      ]
    },
    {
      "cell_type": "markdown",
      "metadata": {
        "id": "E-5fZhvXjVpn"
      },
      "source": [
        "### Business Constraints : **Maximum Claims ratio & Minimum Sum Insured** \n",
        "\n"
      ]
    },
    {
      "cell_type": "markdown",
      "metadata": {
        "id": "_wP7Sh3LZQ2H"
      },
      "source": [
        "\n",
        "\n",
        "# **Loading Libraries**\n",
        "\n",
        "\n",
        "\n"
      ]
    },
    {
      "cell_type": "code",
      "metadata": {
        "id": "m7dz0gzCXKrC"
      },
      "source": [
        "import pandas as pd\n",
        "import numpy as np\n",
        "import matplotlib.pyplot as plt\n",
        "import seaborn as sns"
      ],
      "execution_count": null,
      "outputs": []
    },
    {
      "cell_type": "markdown",
      "metadata": {
        "id": "vHollNU8ZVv9"
      },
      "source": [
        "# **Loading dataset**"
      ]
    },
    {
      "cell_type": "code",
      "metadata": {
        "colab": {
          "resources": {
            "http://localhost:8080/nbextensions/google.colab/files.js": {
              "data": "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",
              "ok": true,
              "headers": [
                [
                  "content-type",
                  "application/javascript"
                ]
              ],
              "status": 200,
              "status_text": ""
            }
          },
          "base_uri": "https://localhost:8080/",
          "height": 72
        },
        "id": "owXac57WZP_O",
        "outputId": "fcf79878-1afb-41c6-b0d4-24361f14bc00"
      },
      "source": [
        "from google.colab import files\n",
        "ghi = files.upload()"
      ],
      "execution_count": null,
      "outputs": [
        {
          "output_type": "display_data",
          "data": {
            "text/html": [
              "\n",
              "     <input type=\"file\" id=\"files-610c868b-14f7-4600-81e8-876790f5a5da\" name=\"files[]\" multiple disabled\n",
              "        style=\"border:none\" />\n",
              "     <output id=\"result-610c868b-14f7-4600-81e8-876790f5a5da\">\n",
              "      Upload widget is only available when the cell has been executed in the\n",
              "      current browser session. Please rerun this cell to enable.\n",
              "      </output>\n",
              "      <script src=\"/nbextensions/google.colab/files.js\"></script> "
            ],
            "text/plain": [
              "<IPython.core.display.HTML object>"
            ]
          },
          "metadata": {
            "tags": []
          }
        },
        {
          "output_type": "stream",
          "text": [
            "Saving dataset2L.xlsx to dataset2L.xlsx\n"
          ],
          "name": "stdout"
        }
      ]
    },
    {
      "cell_type": "code",
      "metadata": {
        "colab": {
          "base_uri": "https://localhost:8080/",
          "height": 1000
        },
        "id": "nrk1DjBMZjw2",
        "outputId": "34b2c96e-1fad-454b-d006-70502719af83"
      },
      "source": [
        "import io\n",
        "ghi = pd.read_excel(io.BytesIO(ghi['dataset2L.xlsx']))\n",
        "ghi"
      ],
      "execution_count": null,
      "outputs": [
        {
          "output_type": "execute_result",
          "data": {
            "text/html": [
              "<div>\n",
              "<style scoped>\n",
              "    .dataframe tbody tr th:only-of-type {\n",
              "        vertical-align: middle;\n",
              "    }\n",
              "\n",
              "    .dataframe tbody tr th {\n",
              "        vertical-align: top;\n",
              "    }\n",
              "\n",
              "    .dataframe thead th {\n",
              "        text-align: right;\n",
              "    }\n",
              "</style>\n",
              "<table border=\"1\" class=\"dataframe\">\n",
              "  <thead>\n",
              "    <tr style=\"text-align: right;\">\n",
              "      <th></th>\n",
              "      <th>Insurance Provider Name</th>\n",
              "      <th>Name of the Product</th>\n",
              "      <th>Group Size</th>\n",
              "      <th>Sum Insured</th>\n",
              "      <th>Premium Per Year</th>\n",
              "      <th>Age Group</th>\n",
              "      <th>Policy Term Per Year</th>\n",
              "      <th>Ambulance Charges</th>\n",
              "      <th>Domiciliary Hospitalization Expenses</th>\n",
              "      <th>Pre Existing Disease from day 1</th>\n",
              "      <th>Maternity Benefits</th>\n",
              "      <th>Pre-hospitalization Medical Expenses(Days)</th>\n",
              "      <th>Post-hospitalization Medical Expenses(Days)</th>\n",
              "      <th>Claims Ratio(%)</th>\n",
              "      <th>Organ donor cover</th>\n",
              "      <th>Network Hospitals</th>\n",
              "      <th>Ayush</th>\n",
              "      <th>Dental</th>\n",
              "      <th>Newborn Baby Cover from day 1</th>\n",
              "      <th>Covid - 19</th>\n",
              "    </tr>\n",
              "  </thead>\n",
              "  <tbody>\n",
              "    <tr>\n",
              "      <th>0</th>\n",
              "      <td>Aditya Birla Health Insurance Co</td>\n",
              "      <td>Group Assure COVID-19</td>\n",
              "      <td>50</td>\n",
              "      <td>200000</td>\n",
              "      <td>365582</td>\n",
              "      <td>18 - 65</td>\n",
              "      <td>1</td>\n",
              "      <td>1000</td>\n",
              "      <td>Covered</td>\n",
              "      <td>Not Covered</td>\n",
              "      <td>Not Covered</td>\n",
              "      <td>30</td>\n",
              "      <td>60</td>\n",
              "      <td>49.08</td>\n",
              "      <td>Not Covered</td>\n",
              "      <td>8200</td>\n",
              "      <td>Not Covered</td>\n",
              "      <td>Not Covered</td>\n",
              "      <td>Not Covered</td>\n",
              "      <td>Covered</td>\n",
              "    </tr>\n",
              "    <tr>\n",
              "      <th>1</th>\n",
              "      <td>Aditya Birla Health Insurance Co</td>\n",
              "      <td>Group Arogya Sanjeevani Policy</td>\n",
              "      <td>50</td>\n",
              "      <td>200000</td>\n",
              "      <td>219196</td>\n",
              "      <td>18 - 65</td>\n",
              "      <td>1</td>\n",
              "      <td>1000</td>\n",
              "      <td>Covered</td>\n",
              "      <td>Not Covered</td>\n",
              "      <td>Not Covered</td>\n",
              "      <td>30</td>\n",
              "      <td>60</td>\n",
              "      <td>49.08</td>\n",
              "      <td>Covered</td>\n",
              "      <td>8200</td>\n",
              "      <td>Covered</td>\n",
              "      <td>Not Covered</td>\n",
              "      <td>Covered</td>\n",
              "      <td>Not Covered</td>\n",
              "    </tr>\n",
              "    <tr>\n",
              "      <th>2</th>\n",
              "      <td>Acko General Insurance Co. Ltd.</td>\n",
              "      <td>Acko Group Health Insurance Policy</td>\n",
              "      <td>50</td>\n",
              "      <td>200000</td>\n",
              "      <td>396480</td>\n",
              "      <td>18 - 65</td>\n",
              "      <td>1</td>\n",
              "      <td>4000</td>\n",
              "      <td>Covered</td>\n",
              "      <td>Covered</td>\n",
              "      <td>Not Covered</td>\n",
              "      <td>30</td>\n",
              "      <td>60</td>\n",
              "      <td>95.00</td>\n",
              "      <td>Covered</td>\n",
              "      <td>5000</td>\n",
              "      <td>Not Covered</td>\n",
              "      <td>Not Covered</td>\n",
              "      <td>Covered</td>\n",
              "      <td>Not Covered</td>\n",
              "    </tr>\n",
              "    <tr>\n",
              "      <th>3</th>\n",
              "      <td>Bajaj Allianz General Insurance Company Limited</td>\n",
              "      <td>Health Guard (Group)</td>\n",
              "      <td>50</td>\n",
              "      <td>200000</td>\n",
              "      <td>152673</td>\n",
              "      <td>18 - 65</td>\n",
              "      <td>1</td>\n",
              "      <td>1200</td>\n",
              "      <td>Not Covered</td>\n",
              "      <td>Not Covered</td>\n",
              "      <td>0 - 25000</td>\n",
              "      <td>60</td>\n",
              "      <td>90</td>\n",
              "      <td>99.80</td>\n",
              "      <td>Not Covered</td>\n",
              "      <td>10000</td>\n",
              "      <td>Not Covered</td>\n",
              "      <td>Not Covered</td>\n",
              "      <td>Not Covered</td>\n",
              "      <td>Not Covered</td>\n",
              "    </tr>\n",
              "    <tr>\n",
              "      <th>4</th>\n",
              "      <td>Bharati AXA</td>\n",
              "      <td>Prime Health Insurance</td>\n",
              "      <td>50</td>\n",
              "      <td>200000</td>\n",
              "      <td>222948</td>\n",
              "      <td>18 - 65</td>\n",
              "      <td>1</td>\n",
              "      <td>3500</td>\n",
              "      <td>Covered</td>\n",
              "      <td>Not Covered</td>\n",
              "      <td>Not Covered</td>\n",
              "      <td>30</td>\n",
              "      <td>60</td>\n",
              "      <td>77.50</td>\n",
              "      <td>Covered</td>\n",
              "      <td>4500</td>\n",
              "      <td>Covered</td>\n",
              "      <td>Not Covered</td>\n",
              "      <td>Not Covered</td>\n",
              "      <td>Covered</td>\n",
              "    </tr>\n",
              "    <tr>\n",
              "      <th>5</th>\n",
              "      <td>Care Health Insurance</td>\n",
              "      <td>Basic</td>\n",
              "      <td>50</td>\n",
              "      <td>200000</td>\n",
              "      <td>99469</td>\n",
              "      <td>18 - 65</td>\n",
              "      <td>1</td>\n",
              "      <td>1000</td>\n",
              "      <td>Not Covered</td>\n",
              "      <td>Not Covered</td>\n",
              "      <td>Not Covered</td>\n",
              "      <td>30</td>\n",
              "      <td>60</td>\n",
              "      <td>95.20</td>\n",
              "      <td>Not Covered</td>\n",
              "      <td>15500</td>\n",
              "      <td>Not Covered</td>\n",
              "      <td>Not Covered</td>\n",
              "      <td>Covered</td>\n",
              "      <td>Not Covered</td>\n",
              "    </tr>\n",
              "    <tr>\n",
              "      <th>6</th>\n",
              "      <td>Care Health Insurance</td>\n",
              "      <td>Standard</td>\n",
              "      <td>50</td>\n",
              "      <td>200000</td>\n",
              "      <td>148666</td>\n",
              "      <td>18 - 65</td>\n",
              "      <td>1</td>\n",
              "      <td>1000</td>\n",
              "      <td>Not Covered</td>\n",
              "      <td>Covered</td>\n",
              "      <td>Not Covered</td>\n",
              "      <td>30</td>\n",
              "      <td>60</td>\n",
              "      <td>95.20</td>\n",
              "      <td>Not Covered</td>\n",
              "      <td>15500</td>\n",
              "      <td>Not Covered</td>\n",
              "      <td>Not Covered</td>\n",
              "      <td>Covered</td>\n",
              "      <td>Not Covered</td>\n",
              "    </tr>\n",
              "    <tr>\n",
              "      <th>7</th>\n",
              "      <td>Care Health Insurance</td>\n",
              "      <td>Advanced</td>\n",
              "      <td>50</td>\n",
              "      <td>200000</td>\n",
              "      <td>249748</td>\n",
              "      <td>18 - 65</td>\n",
              "      <td>1</td>\n",
              "      <td>1000</td>\n",
              "      <td>Not Covered</td>\n",
              "      <td>Covered</td>\n",
              "      <td>25000 - 50000</td>\n",
              "      <td>30</td>\n",
              "      <td>60</td>\n",
              "      <td>95.20</td>\n",
              "      <td>Not Covered</td>\n",
              "      <td>15500</td>\n",
              "      <td>Not Covered</td>\n",
              "      <td>Not Covered</td>\n",
              "      <td>Covered</td>\n",
              "      <td>Not Covered</td>\n",
              "    </tr>\n",
              "    <tr>\n",
              "      <th>8</th>\n",
              "      <td>Cholamandalam MS General Insurance Co. Ltd.</td>\n",
              "      <td>Group Health Insurance</td>\n",
              "      <td>50</td>\n",
              "      <td>200000</td>\n",
              "      <td>283427</td>\n",
              "      <td>18 - 65</td>\n",
              "      <td>1</td>\n",
              "      <td>1000</td>\n",
              "      <td>Covered</td>\n",
              "      <td>Not Covered</td>\n",
              "      <td>Not Covered</td>\n",
              "      <td>30</td>\n",
              "      <td>60</td>\n",
              "      <td>56.25</td>\n",
              "      <td>Covered</td>\n",
              "      <td>7240</td>\n",
              "      <td>Covered</td>\n",
              "      <td>Not Covered</td>\n",
              "      <td>Not Covered</td>\n",
              "      <td>Covered</td>\n",
              "    </tr>\n",
              "    <tr>\n",
              "      <th>9</th>\n",
              "      <td>CitiBank &amp; The New India Assurance Co. Ltd</td>\n",
              "      <td>Good Health Insurance</td>\n",
              "      <td>50</td>\n",
              "      <td>200000</td>\n",
              "      <td>138287</td>\n",
              "      <td>18 - 65</td>\n",
              "      <td>1</td>\n",
              "      <td>1500</td>\n",
              "      <td>Not Covered</td>\n",
              "      <td>Not Covered</td>\n",
              "      <td>Not Covered</td>\n",
              "      <td>30</td>\n",
              "      <td>60</td>\n",
              "      <td>91.99</td>\n",
              "      <td>Not Covered</td>\n",
              "      <td>4000</td>\n",
              "      <td>Covered</td>\n",
              "      <td>Not Covered</td>\n",
              "      <td>Not Covered</td>\n",
              "      <td>Not Covered</td>\n",
              "    </tr>\n",
              "    <tr>\n",
              "      <th>10</th>\n",
              "      <td>Edelweiss General Insurance Co.Ltd</td>\n",
              "      <td>Edelweiss Group Total Protect Policy</td>\n",
              "      <td>50</td>\n",
              "      <td>200000</td>\n",
              "      <td>216648</td>\n",
              "      <td>18 - 65</td>\n",
              "      <td>1</td>\n",
              "      <td>1500</td>\n",
              "      <td>Covered</td>\n",
              "      <td>Covered</td>\n",
              "      <td>Not Covered</td>\n",
              "      <td>30</td>\n",
              "      <td>60</td>\n",
              "      <td>85.57</td>\n",
              "      <td>Covered</td>\n",
              "      <td>2578</td>\n",
              "      <td>Covered</td>\n",
              "      <td>Covered</td>\n",
              "      <td>Covered</td>\n",
              "      <td>Covered</td>\n",
              "    </tr>\n",
              "    <tr>\n",
              "      <th>11</th>\n",
              "      <td>Future Generali Health Insurance</td>\n",
              "      <td>GROUP HEALTH INSURANCE (Revised)</td>\n",
              "      <td>50</td>\n",
              "      <td>200000</td>\n",
              "      <td>444935</td>\n",
              "      <td>18 - 65</td>\n",
              "      <td>1</td>\n",
              "      <td>1000</td>\n",
              "      <td>Not Covered</td>\n",
              "      <td>Not Covered</td>\n",
              "      <td>Not Covered</td>\n",
              "      <td>30</td>\n",
              "      <td>60</td>\n",
              "      <td>82.96</td>\n",
              "      <td>Not Covered</td>\n",
              "      <td>5100</td>\n",
              "      <td>Covered</td>\n",
              "      <td>Not Covered</td>\n",
              "      <td>Covered</td>\n",
              "      <td>Not Covered</td>\n",
              "    </tr>\n",
              "    <tr>\n",
              "      <th>12</th>\n",
              "      <td>Godigit</td>\n",
              "      <td>Group Health insurance</td>\n",
              "      <td>50</td>\n",
              "      <td>200000</td>\n",
              "      <td>146333</td>\n",
              "      <td>18 - 65</td>\n",
              "      <td>1</td>\n",
              "      <td>1000</td>\n",
              "      <td>Covered</td>\n",
              "      <td>Covered</td>\n",
              "      <td>0 - 25000</td>\n",
              "      <td>30</td>\n",
              "      <td>60</td>\n",
              "      <td>93.37</td>\n",
              "      <td>Covered</td>\n",
              "      <td>5900</td>\n",
              "      <td>Not Covered</td>\n",
              "      <td>Not Covered</td>\n",
              "      <td>Covered</td>\n",
              "      <td>Not Covered</td>\n",
              "    </tr>\n",
              "    <tr>\n",
              "      <th>13</th>\n",
              "      <td>HDFC ERGO General Insurance</td>\n",
              "      <td>Group Mediclaim Insurance</td>\n",
              "      <td>50</td>\n",
              "      <td>200000</td>\n",
              "      <td>134151</td>\n",
              "      <td>18 - 65</td>\n",
              "      <td>1</td>\n",
              "      <td>1000</td>\n",
              "      <td>Not Covered</td>\n",
              "      <td>Not Covered</td>\n",
              "      <td>0 - 25000</td>\n",
              "      <td>30</td>\n",
              "      <td>60</td>\n",
              "      <td>99.80</td>\n",
              "      <td>Not Covered</td>\n",
              "      <td>10000</td>\n",
              "      <td>Covered</td>\n",
              "      <td>Not Covered</td>\n",
              "      <td>Not Covered</td>\n",
              "      <td>Not Covered</td>\n",
              "    </tr>\n",
              "    <tr>\n",
              "      <th>14</th>\n",
              "      <td>ICICI LOMBARD</td>\n",
              "      <td>ICICI LOMBARD (floater)</td>\n",
              "      <td>50</td>\n",
              "      <td>200000</td>\n",
              "      <td>177933</td>\n",
              "      <td>18 - 65</td>\n",
              "      <td>1</td>\n",
              "      <td>1000</td>\n",
              "      <td>Covered</td>\n",
              "      <td>Covered</td>\n",
              "      <td>25000 - 50000</td>\n",
              "      <td>30</td>\n",
              "      <td>60</td>\n",
              "      <td>78.32</td>\n",
              "      <td>Covered</td>\n",
              "      <td>6500</td>\n",
              "      <td>Not Covered</td>\n",
              "      <td>Not Covered</td>\n",
              "      <td>Covered</td>\n",
              "      <td>Not Covered</td>\n",
              "    </tr>\n",
              "    <tr>\n",
              "      <th>15</th>\n",
              "      <td>IFFCO TOKIO</td>\n",
              "      <td>Group Medishield Insurance Policy</td>\n",
              "      <td>50</td>\n",
              "      <td>200000</td>\n",
              "      <td>182427</td>\n",
              "      <td>18 - 65</td>\n",
              "      <td>1</td>\n",
              "      <td>2500</td>\n",
              "      <td>Covered</td>\n",
              "      <td>Covered</td>\n",
              "      <td>Not Covered</td>\n",
              "      <td>30</td>\n",
              "      <td>60</td>\n",
              "      <td>96.33</td>\n",
              "      <td>Covered</td>\n",
              "      <td>6400</td>\n",
              "      <td>Not Covered</td>\n",
              "      <td>Covered</td>\n",
              "      <td>Covered</td>\n",
              "      <td>Not Covered</td>\n",
              "    </tr>\n",
              "    <tr>\n",
              "      <th>16</th>\n",
              "      <td>Indian Medical Insurance policy</td>\n",
              "      <td>Group Health Insurance</td>\n",
              "      <td>50</td>\n",
              "      <td>200000</td>\n",
              "      <td>146131</td>\n",
              "      <td>18 - 65</td>\n",
              "      <td>1</td>\n",
              "      <td>2000</td>\n",
              "      <td>Not Covered</td>\n",
              "      <td>Not Covered</td>\n",
              "      <td>25000 - 50000</td>\n",
              "      <td>30</td>\n",
              "      <td>60</td>\n",
              "      <td>104.90</td>\n",
              "      <td>Not Covered</td>\n",
              "      <td>6000</td>\n",
              "      <td>Covered</td>\n",
              "      <td>Not Covered</td>\n",
              "      <td>Not Covered</td>\n",
              "      <td>Not Covered</td>\n",
              "    </tr>\n",
              "    <tr>\n",
              "      <th>17</th>\n",
              "      <td>Kotak Mahindra group health care</td>\n",
              "      <td>KOTAK GROUP HEALTH CARE – MICRO INSURANCE - PO...</td>\n",
              "      <td>50</td>\n",
              "      <td>200000</td>\n",
              "      <td>273925</td>\n",
              "      <td>18 - 65</td>\n",
              "      <td>1</td>\n",
              "      <td>1000</td>\n",
              "      <td>Covered</td>\n",
              "      <td>Covered</td>\n",
              "      <td>Not Covered</td>\n",
              "      <td>30</td>\n",
              "      <td>60</td>\n",
              "      <td>75.45</td>\n",
              "      <td>Covered</td>\n",
              "      <td>4000</td>\n",
              "      <td>Covered</td>\n",
              "      <td>Covered</td>\n",
              "      <td>Not Covered</td>\n",
              "      <td>Not Covered</td>\n",
              "    </tr>\n",
              "    <tr>\n",
              "      <th>18</th>\n",
              "      <td>Kotak Mahindra group health care</td>\n",
              "      <td>Comprehensive premium</td>\n",
              "      <td>50</td>\n",
              "      <td>200000</td>\n",
              "      <td>336541</td>\n",
              "      <td>18 - 65</td>\n",
              "      <td>1</td>\n",
              "      <td>1500</td>\n",
              "      <td>Not Covered</td>\n",
              "      <td>Covered</td>\n",
              "      <td>Not Covered</td>\n",
              "      <td>30</td>\n",
              "      <td>60</td>\n",
              "      <td>75.45</td>\n",
              "      <td>Covered</td>\n",
              "      <td>4000</td>\n",
              "      <td>Covered</td>\n",
              "      <td>Not Covered</td>\n",
              "      <td>Not Covered</td>\n",
              "      <td>Not Covered</td>\n",
              "    </tr>\n",
              "    <tr>\n",
              "      <th>19</th>\n",
              "      <td>Liberty General Insurance Ltd</td>\n",
              "      <td>Liberty Complete Protect Group</td>\n",
              "      <td>50</td>\n",
              "      <td>200000</td>\n",
              "      <td>137338</td>\n",
              "      <td>18 - 65</td>\n",
              "      <td>1</td>\n",
              "      <td>1000</td>\n",
              "      <td>Not Covered</td>\n",
              "      <td>Covered</td>\n",
              "      <td>Not Covered</td>\n",
              "      <td>30</td>\n",
              "      <td>60</td>\n",
              "      <td>74.58</td>\n",
              "      <td>Not Covered</td>\n",
              "      <td>3000</td>\n",
              "      <td>Covered</td>\n",
              "      <td>Not Covered</td>\n",
              "      <td>Not Covered</td>\n",
              "      <td>Not Covered</td>\n",
              "    </tr>\n",
              "    <tr>\n",
              "      <th>20</th>\n",
              "      <td>Magma HDI General Insurance Co. Ltd.</td>\n",
              "      <td>Support  health insurance plan</td>\n",
              "      <td>50</td>\n",
              "      <td>200000</td>\n",
              "      <td>366093</td>\n",
              "      <td>18 - 65</td>\n",
              "      <td>1</td>\n",
              "      <td>2500</td>\n",
              "      <td>Not Covered</td>\n",
              "      <td>Not Covered</td>\n",
              "      <td>Not Covered</td>\n",
              "      <td>30</td>\n",
              "      <td>60</td>\n",
              "      <td>95.00</td>\n",
              "      <td>Covered</td>\n",
              "      <td>4500</td>\n",
              "      <td>Covered</td>\n",
              "      <td>Not Covered</td>\n",
              "      <td>Not Covered</td>\n",
              "      <td>Not Covered</td>\n",
              "    </tr>\n",
              "    <tr>\n",
              "      <th>21</th>\n",
              "      <td>Magma HDI General Insurance Co. Ltd.</td>\n",
              "      <td>secure health insurance plan</td>\n",
              "      <td>50</td>\n",
              "      <td>200000</td>\n",
              "      <td>420467</td>\n",
              "      <td>18 - 65</td>\n",
              "      <td>1</td>\n",
              "      <td>2000</td>\n",
              "      <td>Not Covered</td>\n",
              "      <td>Covered</td>\n",
              "      <td>Not Covered</td>\n",
              "      <td>30</td>\n",
              "      <td>60</td>\n",
              "      <td>95.00</td>\n",
              "      <td>Covered</td>\n",
              "      <td>4500</td>\n",
              "      <td>Covered</td>\n",
              "      <td>Not Covered</td>\n",
              "      <td>Not Covered</td>\n",
              "      <td>Covered</td>\n",
              "    </tr>\n",
              "    <tr>\n",
              "      <th>22</th>\n",
              "      <td>Magma HDI General Insurance Co. Ltd.</td>\n",
              "      <td>support Plus health insurance plan</td>\n",
              "      <td>50</td>\n",
              "      <td>200000</td>\n",
              "      <td>458076</td>\n",
              "      <td>18 - 65</td>\n",
              "      <td>1</td>\n",
              "      <td>2500</td>\n",
              "      <td>Covered</td>\n",
              "      <td>Not Covered</td>\n",
              "      <td>0 - 25000</td>\n",
              "      <td>60</td>\n",
              "      <td>90</td>\n",
              "      <td>95.00</td>\n",
              "      <td>Covered</td>\n",
              "      <td>4500</td>\n",
              "      <td>Covered</td>\n",
              "      <td>Not Covered</td>\n",
              "      <td>Covered</td>\n",
              "      <td>Covered</td>\n",
              "    </tr>\n",
              "    <tr>\n",
              "      <th>23</th>\n",
              "      <td>Manipal Cigna Health Insurance Company Limited</td>\n",
              "      <td>Manipalcigna prohealth group insurance</td>\n",
              "      <td>50</td>\n",
              "      <td>200000</td>\n",
              "      <td>436652</td>\n",
              "      <td>18 - 65</td>\n",
              "      <td>1</td>\n",
              "      <td>1000</td>\n",
              "      <td>Not Covered</td>\n",
              "      <td>Not Covered</td>\n",
              "      <td>Not Covered</td>\n",
              "      <td>30</td>\n",
              "      <td>60</td>\n",
              "      <td>91.00</td>\n",
              "      <td>Covered</td>\n",
              "      <td>7000</td>\n",
              "      <td>Covered</td>\n",
              "      <td>Not Covered</td>\n",
              "      <td>Not Covered</td>\n",
              "      <td>Covered</td>\n",
              "    </tr>\n",
              "    <tr>\n",
              "      <th>24</th>\n",
              "      <td>National Insurance Co. Ltd</td>\n",
              "      <td>National Group Mediclaim Policy</td>\n",
              "      <td>50</td>\n",
              "      <td>200000</td>\n",
              "      <td>181248</td>\n",
              "      <td>18 - 65</td>\n",
              "      <td>1</td>\n",
              "      <td>1000</td>\n",
              "      <td>Not Covered</td>\n",
              "      <td>Not Covered</td>\n",
              "      <td>25000 - 50000</td>\n",
              "      <td>30</td>\n",
              "      <td>60</td>\n",
              "      <td>103.30</td>\n",
              "      <td>Not Covered</td>\n",
              "      <td>6000</td>\n",
              "      <td>Covered</td>\n",
              "      <td>Not Covered</td>\n",
              "      <td>Not Covered</td>\n",
              "      <td>Covered</td>\n",
              "    </tr>\n",
              "    <tr>\n",
              "      <th>25</th>\n",
              "      <td>Navi Health Insurance</td>\n",
              "      <td>Group Health Insurance</td>\n",
              "      <td>50</td>\n",
              "      <td>200000</td>\n",
              "      <td>258774</td>\n",
              "      <td>18 - 65</td>\n",
              "      <td>1</td>\n",
              "      <td>1500</td>\n",
              "      <td>Covered</td>\n",
              "      <td>Not Covered</td>\n",
              "      <td>Not Covered</td>\n",
              "      <td>30</td>\n",
              "      <td>60</td>\n",
              "      <td>94.40</td>\n",
              "      <td>Not Covered</td>\n",
              "      <td>4000</td>\n",
              "      <td>Covered</td>\n",
              "      <td>Not Covered</td>\n",
              "      <td>Not Covered</td>\n",
              "      <td>Covered</td>\n",
              "    </tr>\n",
              "    <tr>\n",
              "      <th>26</th>\n",
              "      <td>Reliance General Insurance Co.Ltd</td>\n",
              "      <td>Group Mediclaim</td>\n",
              "      <td>50</td>\n",
              "      <td>200000</td>\n",
              "      <td>154840</td>\n",
              "      <td>18 - 65</td>\n",
              "      <td>1</td>\n",
              "      <td>1000</td>\n",
              "      <td>Not Covered</td>\n",
              "      <td>Covered</td>\n",
              "      <td>Not Covered</td>\n",
              "      <td>30</td>\n",
              "      <td>60</td>\n",
              "      <td>89.37</td>\n",
              "      <td>Covered</td>\n",
              "      <td>7300</td>\n",
              "      <td>Covered</td>\n",
              "      <td>Not Covered</td>\n",
              "      <td>Not Covered</td>\n",
              "      <td>Covered</td>\n",
              "    </tr>\n",
              "    <tr>\n",
              "      <th>27</th>\n",
              "      <td>Royal Sundaram General Insurance Co. Ltd.</td>\n",
              "      <td>Group Health Insurance</td>\n",
              "      <td>50</td>\n",
              "      <td>200000</td>\n",
              "      <td>161622</td>\n",
              "      <td>18 - 65</td>\n",
              "      <td>1</td>\n",
              "      <td>1000</td>\n",
              "      <td>Not Covered</td>\n",
              "      <td>Not Covered</td>\n",
              "      <td>Not Covered</td>\n",
              "      <td>30</td>\n",
              "      <td>60</td>\n",
              "      <td>63.55</td>\n",
              "      <td>Not Covered</td>\n",
              "      <td>5000</td>\n",
              "      <td>Not Covered</td>\n",
              "      <td>Not Covered</td>\n",
              "      <td>Not Covered</td>\n",
              "      <td>Not Covered</td>\n",
              "    </tr>\n",
              "    <tr>\n",
              "      <th>28</th>\n",
              "      <td>Star Health and Allied Insurance Co. Ltd.</td>\n",
              "      <td>Group Arogya Sanjeevani Policy</td>\n",
              "      <td>50</td>\n",
              "      <td>200000</td>\n",
              "      <td>182664</td>\n",
              "      <td>18 - 65</td>\n",
              "      <td>1</td>\n",
              "      <td>2000</td>\n",
              "      <td>Covered</td>\n",
              "      <td>Not Covered</td>\n",
              "      <td>0 - 25000</td>\n",
              "      <td>30</td>\n",
              "      <td>60</td>\n",
              "      <td>87.00</td>\n",
              "      <td>Not Covered</td>\n",
              "      <td>10200</td>\n",
              "      <td>Covered</td>\n",
              "      <td>Covered</td>\n",
              "      <td>Not Covered</td>\n",
              "      <td>Not Covered</td>\n",
              "    </tr>\n",
              "    <tr>\n",
              "      <th>29</th>\n",
              "      <td>Star Health and Allied Insurance Co. Ltd.</td>\n",
              "      <td>Classic Group Health Insurance</td>\n",
              "      <td>50</td>\n",
              "      <td>200000</td>\n",
              "      <td>188328</td>\n",
              "      <td>18 - 65</td>\n",
              "      <td>1</td>\n",
              "      <td>2000</td>\n",
              "      <td>Covered</td>\n",
              "      <td>Not Covered</td>\n",
              "      <td>0 - 25000</td>\n",
              "      <td>30</td>\n",
              "      <td>60</td>\n",
              "      <td>87.00</td>\n",
              "      <td>Covered</td>\n",
              "      <td>10200</td>\n",
              "      <td>Covered</td>\n",
              "      <td>Covered</td>\n",
              "      <td>Not Covered</td>\n",
              "      <td>Not Covered</td>\n",
              "    </tr>\n",
              "    <tr>\n",
              "      <th>30</th>\n",
              "      <td>Star Health and Allied Insurance Co. Ltd.</td>\n",
              "      <td>Star Group Health Insurance</td>\n",
              "      <td>50</td>\n",
              "      <td>200000</td>\n",
              "      <td>199372</td>\n",
              "      <td>18 - 65</td>\n",
              "      <td>1</td>\n",
              "      <td>2000</td>\n",
              "      <td>Covered</td>\n",
              "      <td>Not Covered</td>\n",
              "      <td>0 - 25000</td>\n",
              "      <td>30</td>\n",
              "      <td>60</td>\n",
              "      <td>87.00</td>\n",
              "      <td>Covered</td>\n",
              "      <td>10200</td>\n",
              "      <td>Covered</td>\n",
              "      <td>Covered</td>\n",
              "      <td>Covered</td>\n",
              "      <td>Not Covered</td>\n",
              "    </tr>\n",
              "    <tr>\n",
              "      <th>31</th>\n",
              "      <td>State Bank Of India</td>\n",
              "      <td>Basic</td>\n",
              "      <td>50</td>\n",
              "      <td>200000</td>\n",
              "      <td>128260</td>\n",
              "      <td>18 - 65</td>\n",
              "      <td>1</td>\n",
              "      <td>1000</td>\n",
              "      <td>Not Covered</td>\n",
              "      <td>Not Covered</td>\n",
              "      <td>Not Covered</td>\n",
              "      <td>30</td>\n",
              "      <td>60</td>\n",
              "      <td>96.00</td>\n",
              "      <td>Not Covered</td>\n",
              "      <td>6000</td>\n",
              "      <td>Not Covered</td>\n",
              "      <td>Not Covered</td>\n",
              "      <td>Covered</td>\n",
              "      <td>Not Covered</td>\n",
              "    </tr>\n",
              "    <tr>\n",
              "      <th>32</th>\n",
              "      <td>State Bank Of India</td>\n",
              "      <td>Standard</td>\n",
              "      <td>50</td>\n",
              "      <td>200000</td>\n",
              "      <td>205846</td>\n",
              "      <td>18 - 65</td>\n",
              "      <td>1</td>\n",
              "      <td>1000</td>\n",
              "      <td>Not Covered</td>\n",
              "      <td>Covered</td>\n",
              "      <td>Not Covered</td>\n",
              "      <td>30</td>\n",
              "      <td>60</td>\n",
              "      <td>96.00</td>\n",
              "      <td>Not Covered</td>\n",
              "      <td>6000</td>\n",
              "      <td>Not Covered</td>\n",
              "      <td>Not Covered</td>\n",
              "      <td>Covered</td>\n",
              "      <td>Not Covered</td>\n",
              "    </tr>\n",
              "    <tr>\n",
              "      <th>33</th>\n",
              "      <td>State Bank Of India</td>\n",
              "      <td>Advanced</td>\n",
              "      <td>50</td>\n",
              "      <td>200000</td>\n",
              "      <td>293840</td>\n",
              "      <td>18 - 65</td>\n",
              "      <td>1</td>\n",
              "      <td>1000</td>\n",
              "      <td>Not Covered</td>\n",
              "      <td>Covered</td>\n",
              "      <td>25000 - 50000</td>\n",
              "      <td>30</td>\n",
              "      <td>60</td>\n",
              "      <td>96.00</td>\n",
              "      <td>Not Covered</td>\n",
              "      <td>6000</td>\n",
              "      <td>Not Covered</td>\n",
              "      <td>Not Covered</td>\n",
              "      <td>Covered</td>\n",
              "      <td>Not Covered</td>\n",
              "    </tr>\n",
              "    <tr>\n",
              "      <th>34</th>\n",
              "      <td>The Oriental Insurance Co. Ltd.</td>\n",
              "      <td>Group Medical Insaurance(Sliver Plan)</td>\n",
              "      <td>50</td>\n",
              "      <td>200000</td>\n",
              "      <td>167753</td>\n",
              "      <td>18 - 65</td>\n",
              "      <td>1</td>\n",
              "      <td>1000</td>\n",
              "      <td>Covered</td>\n",
              "      <td>Not Covered</td>\n",
              "      <td>Not Covered</td>\n",
              "      <td>30</td>\n",
              "      <td>60</td>\n",
              "      <td>93.96</td>\n",
              "      <td>Not Covered</td>\n",
              "      <td>4300</td>\n",
              "      <td>Not Covered</td>\n",
              "      <td>Covered</td>\n",
              "      <td>Covered</td>\n",
              "      <td>Not Covered</td>\n",
              "    </tr>\n",
              "    <tr>\n",
              "      <th>35</th>\n",
              "      <td>The Oriental Insurance Co. Ltd.</td>\n",
              "      <td>Mediclaim Insurance Policy (Group)</td>\n",
              "      <td>50</td>\n",
              "      <td>200000</td>\n",
              "      <td>276488</td>\n",
              "      <td>18 - 65</td>\n",
              "      <td>1</td>\n",
              "      <td>1000</td>\n",
              "      <td>Not Covered</td>\n",
              "      <td>Not Covered</td>\n",
              "      <td>Not Covered</td>\n",
              "      <td>30</td>\n",
              "      <td>60</td>\n",
              "      <td>93.96</td>\n",
              "      <td>Covered</td>\n",
              "      <td>5000</td>\n",
              "      <td>Not Covered</td>\n",
              "      <td>Not Covered</td>\n",
              "      <td>Not Covered</td>\n",
              "      <td>Not Covered</td>\n",
              "    </tr>\n",
              "    <tr>\n",
              "      <th>36</th>\n",
              "      <td>The Oriental Insurance Co. Ltd.</td>\n",
              "      <td>Individual Mediclaim Policy</td>\n",
              "      <td>50</td>\n",
              "      <td>200000</td>\n",
              "      <td>333282</td>\n",
              "      <td>18 - 65</td>\n",
              "      <td>1</td>\n",
              "      <td>1000</td>\n",
              "      <td>Covered</td>\n",
              "      <td>Covered</td>\n",
              "      <td>Not Covered</td>\n",
              "      <td>30</td>\n",
              "      <td>60</td>\n",
              "      <td>93.96</td>\n",
              "      <td>Covered</td>\n",
              "      <td>5000</td>\n",
              "      <td>Covered</td>\n",
              "      <td>Not Covered</td>\n",
              "      <td>Not Covered</td>\n",
              "      <td>Covered</td>\n",
              "    </tr>\n",
              "    <tr>\n",
              "      <th>37</th>\n",
              "      <td>United India Insurance Company Limited</td>\n",
              "      <td>Group Health Insurance</td>\n",
              "      <td>50</td>\n",
              "      <td>200000</td>\n",
              "      <td>265896</td>\n",
              "      <td>18 - 65</td>\n",
              "      <td>1</td>\n",
              "      <td>1000</td>\n",
              "      <td>Not Covered</td>\n",
              "      <td>Not Covered</td>\n",
              "      <td>Not Covered</td>\n",
              "      <td>30</td>\n",
              "      <td>60</td>\n",
              "      <td>78.03</td>\n",
              "      <td>Not Covered</td>\n",
              "      <td>7000</td>\n",
              "      <td>Not Covered</td>\n",
              "      <td>Covered</td>\n",
              "      <td>Not Covered</td>\n",
              "      <td>Not Covered</td>\n",
              "    </tr>\n",
              "    <tr>\n",
              "      <th>38</th>\n",
              "      <td>Universal Sompo General Insurance Co. Ltd.</td>\n",
              "      <td>Group Health Insurance Policy</td>\n",
              "      <td>50</td>\n",
              "      <td>200000</td>\n",
              "      <td>329903</td>\n",
              "      <td>18 - 65</td>\n",
              "      <td>1</td>\n",
              "      <td>1000</td>\n",
              "      <td>Covered</td>\n",
              "      <td>Covered</td>\n",
              "      <td>Not Covered</td>\n",
              "      <td>30</td>\n",
              "      <td>60</td>\n",
              "      <td>76.68</td>\n",
              "      <td>Covered</td>\n",
              "      <td>4000</td>\n",
              "      <td>Covered</td>\n",
              "      <td>Covered</td>\n",
              "      <td>Covered</td>\n",
              "      <td>Covered</td>\n",
              "    </tr>\n",
              "  </tbody>\n",
              "</table>\n",
              "</div>"
            ],
            "text/plain": [
              "                            Insurance Provider Name  ...   Covid - 19\n",
              "0                  Aditya Birla Health Insurance Co  ...      Covered\n",
              "1                  Aditya Birla Health Insurance Co  ...  Not Covered\n",
              "2                  Acko General Insurance Co. Ltd.   ...  Not Covered\n",
              "3   Bajaj Allianz General Insurance Company Limited  ...  Not Covered\n",
              "4                                       Bharati AXA  ...      Covered\n",
              "5                             Care Health Insurance  ...  Not Covered\n",
              "6                             Care Health Insurance  ...  Not Covered\n",
              "7                             Care Health Insurance  ...  Not Covered\n",
              "8       Cholamandalam MS General Insurance Co. Ltd.  ...      Covered\n",
              "9        CitiBank & The New India Assurance Co. Ltd  ...  Not Covered\n",
              "10               Edelweiss General Insurance Co.Ltd  ...      Covered\n",
              "11                 Future Generali Health Insurance  ...  Not Covered\n",
              "12                                          Godigit  ...  Not Covered\n",
              "13                      HDFC ERGO General Insurance  ...  Not Covered\n",
              "14                                    ICICI LOMBARD  ...  Not Covered\n",
              "15                                      IFFCO TOKIO  ...  Not Covered\n",
              "16                  Indian Medical Insurance policy  ...  Not Covered\n",
              "17                 Kotak Mahindra group health care  ...  Not Covered\n",
              "18                 Kotak Mahindra group health care  ...  Not Covered\n",
              "19                    Liberty General Insurance Ltd  ...  Not Covered\n",
              "20             Magma HDI General Insurance Co. Ltd.  ...  Not Covered\n",
              "21             Magma HDI General Insurance Co. Ltd.  ...      Covered\n",
              "22             Magma HDI General Insurance Co. Ltd.  ...      Covered\n",
              "23   Manipal Cigna Health Insurance Company Limited  ...      Covered\n",
              "24                       National Insurance Co. Ltd  ...      Covered\n",
              "25                            Navi Health Insurance  ...      Covered\n",
              "26                Reliance General Insurance Co.Ltd  ...      Covered\n",
              "27        Royal Sundaram General Insurance Co. Ltd.  ...  Not Covered\n",
              "28        Star Health and Allied Insurance Co. Ltd.  ...  Not Covered\n",
              "29        Star Health and Allied Insurance Co. Ltd.  ...  Not Covered\n",
              "30        Star Health and Allied Insurance Co. Ltd.  ...  Not Covered\n",
              "31                              State Bank Of India  ...  Not Covered\n",
              "32                              State Bank Of India  ...  Not Covered\n",
              "33                              State Bank Of India  ...  Not Covered\n",
              "34                  The Oriental Insurance Co. Ltd.  ...  Not Covered\n",
              "35                  The Oriental Insurance Co. Ltd.  ...  Not Covered\n",
              "36                  The Oriental Insurance Co. Ltd.  ...      Covered\n",
              "37           United India Insurance Company Limited  ...  Not Covered\n",
              "38       Universal Sompo General Insurance Co. Ltd.  ...      Covered\n",
              "\n",
              "[39 rows x 20 columns]"
            ]
          },
          "metadata": {
            "tags": []
          },
          "execution_count": 3
        }
      ]
    },
    {
      "cell_type": "markdown",
      "metadata": {
        "id": "QMkzfVMniPeZ"
      },
      "source": [
        "## **Checking shape of the dataset**"
      ]
    },
    {
      "cell_type": "code",
      "metadata": {
        "colab": {
          "base_uri": "https://localhost:8080/"
        },
        "id": "FBA5NYP5iFsu",
        "outputId": "a44c9dc6-9b21-4671-919a-d53b168b229c"
      },
      "source": [
        "ghi.shape"
      ],
      "execution_count": null,
      "outputs": [
        {
          "output_type": "execute_result",
          "data": {
            "text/plain": [
              "(39, 20)"
            ]
          },
          "metadata": {
            "tags": []
          },
          "execution_count": 4
        }
      ]
    },
    {
      "cell_type": "markdown",
      "metadata": {
        "id": "WDJcAxYdiDuu"
      },
      "source": [
        "There are 1179 rows and 20 columns in this dataset."
      ]
    },
    {
      "cell_type": "markdown",
      "metadata": {
        "id": "lkxN9r0uZ2Fe"
      },
      "source": [
        "# **Datatypes**"
      ]
    },
    {
      "cell_type": "code",
      "metadata": {
        "colab": {
          "base_uri": "https://localhost:8080/"
        },
        "id": "Oz9jPUujZxiP",
        "outputId": "bc2af574-6e7c-4495-a290-5813fa2d9bda"
      },
      "source": [
        "ghi.dtypes"
      ],
      "execution_count": null,
      "outputs": [
        {
          "output_type": "execute_result",
          "data": {
            "text/plain": [
              "Insurance Provider Name                         object\n",
              "Name of the Product                             object\n",
              "Group Size                                       int64\n",
              "Sum Insured                                      int64\n",
              "Premium Per Year                                 int64\n",
              "Age Group                                       object\n",
              "Policy Term Per Year                             int64\n",
              "Ambulance Charges                                int64\n",
              "Domiciliary Hospitalization Expenses            object\n",
              "Pre Existing Disease from day 1                 object\n",
              "Maternity Benefits                              object\n",
              "Pre-hospitalization Medical Expenses(Days)       int64\n",
              "Post-hospitalization Medical Expenses(Days)      int64\n",
              "Claims Ratio(%)                                float64\n",
              "Organ donor cover                               object\n",
              "Network Hospitals                                int64\n",
              "Ayush                                           object\n",
              "Dental                                          object\n",
              "Newborn Baby Cover from day 1                   object\n",
              "Covid - 19                                      object\n",
              "dtype: object"
            ]
          },
          "metadata": {
            "tags": []
          },
          "execution_count": 5
        }
      ]
    },
    {
      "cell_type": "markdown",
      "metadata": {
        "id": "LAnmIJntZ9yC"
      },
      "source": [
        "# **Checking Null Values**"
      ]
    },
    {
      "cell_type": "code",
      "metadata": {
        "colab": {
          "base_uri": "https://localhost:8080/"
        },
        "id": "abKowVN9aAaX",
        "outputId": "b5642e18-a434-4faf-fd44-9f8f6ed61fbd"
      },
      "source": [
        "ghi.isnull().sum()"
      ],
      "execution_count": null,
      "outputs": [
        {
          "output_type": "execute_result",
          "data": {
            "text/plain": [
              "Insurance Provider Name                        0\n",
              "Name of the Product                            0\n",
              "Group Size                                     0\n",
              "Sum Insured                                    0\n",
              "Premium Per Year                               0\n",
              "Age Group                                      0\n",
              "Policy Term Per Year                           0\n",
              "Ambulance Charges                              0\n",
              "Domiciliary Hospitalization Expenses           0\n",
              "Pre Existing Disease from day 1                0\n",
              "Maternity Benefits                             0\n",
              "Pre-hospitalization Medical Expenses(Days)     0\n",
              "Post-hospitalization Medical Expenses(Days)    0\n",
              "Claims Ratio(%)                                0\n",
              "Organ donor cover                              0\n",
              "Network Hospitals                              0\n",
              "Ayush                                          0\n",
              "Dental                                         0\n",
              "Newborn Baby Cover from day 1                  0\n",
              "Covid - 19                                     0\n",
              "dtype: int64"
            ]
          },
          "metadata": {
            "tags": []
          },
          "execution_count": 6
        }
      ]
    },
    {
      "cell_type": "markdown",
      "metadata": {
        "id": "gFKcgKo6ahIQ"
      },
      "source": [
        "No null values"
      ]
    },
    {
      "cell_type": "markdown",
      "metadata": {
        "id": "b3f3wnD6bdtI"
      },
      "source": [
        "# **PRE-PROCESSING**"
      ]
    },
    {
      "cell_type": "markdown",
      "metadata": {
        "id": "kXVCr9riaE9R"
      },
      "source": [
        "## **Column names**"
      ]
    },
    {
      "cell_type": "code",
      "metadata": {
        "colab": {
          "base_uri": "https://localhost:8080/"
        },
        "id": "-_qq0mhZaEae",
        "outputId": "0e62a06b-6f38-4c99-c827-1191016ff8bc"
      },
      "source": [
        "ghi.columns"
      ],
      "execution_count": null,
      "outputs": [
        {
          "output_type": "execute_result",
          "data": {
            "text/plain": [
              "Index(['Insurance Provider Name', 'Name of the Product', 'Group Size',\n",
              "       'Sum Insured', 'Premium Per Year ', 'Age Group', 'Policy Term Per Year',\n",
              "       'Ambulance Charges', 'Domiciliary Hospitalization Expenses',\n",
              "       'Pre Existing Disease from day 1 ', 'Maternity Benefits',\n",
              "       'Pre-hospitalization Medical Expenses(Days)',\n",
              "       'Post-hospitalization Medical Expenses(Days)', 'Claims Ratio(%)',\n",
              "       'Organ donor cover', 'Network Hospitals', 'Ayush', 'Dental',\n",
              "       'Newborn Baby Cover from day 1', 'Covid - 19'],\n",
              "      dtype='object')"
            ]
          },
          "metadata": {
            "tags": []
          },
          "execution_count": 7
        }
      ]
    },
    {
      "cell_type": "markdown",
      "metadata": {
        "id": "_owJ34KeaLqP"
      },
      "source": [
        "## **Renaming columns**"
      ]
    },
    {
      "cell_type": "code",
      "metadata": {
        "colab": {
          "base_uri": "https://localhost:8080/"
        },
        "id": "Vu6sUSOkaQG5",
        "outputId": "0f8c2f44-dd74-4b65-b6d4-de4a021d4d4c"
      },
      "source": [
        "ghi = ghi.rename(columns = {\"Insurance Provider Name\":\"Insurance_Provider_Name\",\n",
        "                            \"Name of the Product\":\"Name_of_the_Product\",\n",
        "                            \"Group Size\":\"Group_Size\",\"Sum Insured\":\"Sum_Insured\",\n",
        "                            \"Premium Per Year \":\"Premium_per_year\",\"Age Group\":\"Age_Group\",\n",
        "                            \"Policy Term Per Year\":\"Policy_Term\",\"Ambulance Charges\":\"Ambulance_Charges\",\n",
        "                            \"Domiciliary Hospitalization Expenses\":\"Domiciliary_Hospitalization_Expenses\",\n",
        "                            \"Pre Existing Disease from day 1 \":\"Pre_Existing_Disease_Day_1\",\n",
        "                            \"Maternity Benefits\":\"Maternity_Benefits\",\"Pre-hospitalization Medical Expenses(Days)\":\"Pre_hospitalization_Days\",\n",
        "                            \"Post-hospitalization Medical Expenses(Days)\":\"Post_hospitalization_Days\",\n",
        "                            \"Claims Ratio(%)\":\"Claims_Ratio\",\"Organ donor cover\":\"Organ_donor_cover\",\n",
        "                            \"Network Hospitals\":\"Network_Hospitals\",\"Newborn Baby Cover from day 1\":\"Newborn_Baby_Cover_Day_1\",\n",
        "                            \"Covid - 19\":\"Covid_19\"})\n",
        "\n",
        "ghi.columns"
      ],
      "execution_count": null,
      "outputs": [
        {
          "output_type": "execute_result",
          "data": {
            "text/plain": [
              "Index(['Insurance_Provider_Name', 'Name_of_the_Product', 'Group_Size',\n",
              "       'Sum_Insured', 'Premium_per_year', 'Age_Group', 'Policy_Term',\n",
              "       'Ambulance_Charges', 'Domiciliary_Hospitalization_Expenses',\n",
              "       'Pre_Existing_Disease_Day_1', 'Maternity_Benefits',\n",
              "       'Pre_hospitalization_Days', 'Post_hospitalization_Days', 'Claims_Ratio',\n",
              "       'Organ_donor_cover', 'Network_Hospitals', 'Ayush', 'Dental',\n",
              "       'Newborn_Baby_Cover_Day_1', 'Covid_19'],\n",
              "      dtype='object')"
            ]
          },
          "metadata": {
            "tags": []
          },
          "execution_count": 8
        }
      ]
    },
    {
      "cell_type": "markdown",
      "metadata": {
        "id": "v7GETBn4asFk"
      },
      "source": [
        "## **Checking unique values**"
      ]
    },
    {
      "cell_type": "code",
      "metadata": {
        "colab": {
          "base_uri": "https://localhost:8080/"
        },
        "id": "L3rFUcJXaw66",
        "outputId": "23e5842e-5171-41fe-d978-db8fb2c14429"
      },
      "source": [
        "### Insurance_Provider_Name\n",
        "len(ghi['Insurance_Provider_Name'].unique())  "
      ],
      "execution_count": null,
      "outputs": [
        {
          "output_type": "execute_result",
          "data": {
            "text/plain": [
              "27"
            ]
          },
          "metadata": {
            "tags": []
          },
          "execution_count": 9
        }
      ]
    },
    {
      "cell_type": "markdown",
      "metadata": {
        "id": "t9ODFPtXecf3"
      },
      "source": [
        "27 Group Health Insurance providers "
      ]
    },
    {
      "cell_type": "code",
      "metadata": {
        "colab": {
          "base_uri": "https://localhost:8080/"
        },
        "id": "LtmAYqLNZ_NV",
        "outputId": "d8117587-33f5-4c9c-e55b-3757387ce512"
      },
      "source": [
        "### Name_of_the_Product\n",
        "len(ghi['Name_of_the_Product'].unique())     "
      ],
      "execution_count": null,
      "outputs": [
        {
          "output_type": "execute_result",
          "data": {
            "text/plain": [
              "31"
            ]
          },
          "metadata": {
            "tags": []
          },
          "execution_count": 10
        }
      ]
    },
    {
      "cell_type": "markdown",
      "metadata": {
        "id": "9MI0L2JlaiEM"
      },
      "source": [
        "31 Different health insurance products"
      ]
    },
    {
      "cell_type": "code",
      "metadata": {
        "colab": {
          "base_uri": "https://localhost:8080/"
        },
        "id": "qF6sOwWtau6U",
        "outputId": "c5df0b9c-79ea-4ba4-beae-515ff3d1d635"
      },
      "source": [
        "### Group size\n",
        "ghi.Group_Size.unique()           "
      ],
      "execution_count": null,
      "outputs": [
        {
          "output_type": "execute_result",
          "data": {
            "text/plain": [
              "array([50])"
            ]
          },
          "metadata": {
            "tags": []
          },
          "execution_count": 11
        }
      ]
    },
    {
      "cell_type": "markdown",
      "metadata": {
        "id": "9XZ2-VtZa3rn"
      },
      "source": [
        "One employees group size is 50"
      ]
    },
    {
      "cell_type": "code",
      "metadata": {
        "colab": {
          "base_uri": "https://localhost:8080/"
        },
        "id": "150wrJYwa2cP",
        "outputId": "4bf7889d-4cb8-4d89-dcf8-d15f4188dbcc"
      },
      "source": [
        "### Sum_Insured\n",
        "ghi.Sum_Insured.unique()"
      ],
      "execution_count": null,
      "outputs": [
        {
          "output_type": "execute_result",
          "data": {
            "text/plain": [
              "array([200000])"
            ]
          },
          "metadata": {
            "tags": []
          },
          "execution_count": 12
        }
      ]
    },
    {
      "cell_type": "markdown",
      "metadata": {
        "id": "CNY7ZJLzbMYc"
      },
      "source": [
        "One sum insured of 2 lakhs"
      ]
    },
    {
      "cell_type": "code",
      "metadata": {
        "colab": {
          "base_uri": "https://localhost:8080/"
        },
        "id": "jRhbhtHSb1sr",
        "outputId": "f53d86de-1db9-4fd0-b187-cb53ad9f638b"
      },
      "source": [
        "### Policy_Term\n",
        "pd.value_counts(ghi.Policy_Term)     "
      ],
      "execution_count": null,
      "outputs": [
        {
          "output_type": "execute_result",
          "data": {
            "text/plain": [
              "1    39\n",
              "Name: Policy_Term, dtype: int64"
            ]
          },
          "metadata": {
            "tags": []
          },
          "execution_count": 13
        }
      ]
    },
    {
      "cell_type": "markdown",
      "metadata": {
        "id": "NHCObwEjcFT0"
      },
      "source": [
        "Policy term has only one value so it is zero variance column and needs to drop"
      ]
    },
    {
      "cell_type": "code",
      "metadata": {
        "colab": {
          "base_uri": "https://localhost:8080/"
        },
        "id": "sywB0YdTcfMi",
        "outputId": "3ab49775-fafd-406b-9ac1-d8eebc8b7fd8"
      },
      "source": [
        "### Maternity_Benefits\n",
        "pd.value_counts(ghi.Maternity_Benefits)           "
      ],
      "execution_count": null,
      "outputs": [
        {
          "output_type": "execute_result",
          "data": {
            "text/plain": [
              "Not Covered      27\n",
              "0 - 25000         7\n",
              "25000 - 50000     5\n",
              "Name: Maternity_Benefits, dtype: int64"
            ]
          },
          "metadata": {
            "tags": []
          },
          "execution_count": 14
        }
      ]
    },
    {
      "cell_type": "markdown",
      "metadata": {
        "id": "JN4gQmAFcrLJ"
      },
      "source": [
        "Maternity benifts has categorized in to 3 values"
      ]
    },
    {
      "cell_type": "code",
      "metadata": {
        "colab": {
          "base_uri": "https://localhost:8080/"
        },
        "id": "RGg3neYldDdk",
        "outputId": "8e6aac42-661b-42e8-fe93-2aa4d7f4830e"
      },
      "source": [
        "### Claims_Ratio\n",
        "ghi.Claims_Ratio.unique()              "
      ],
      "execution_count": null,
      "outputs": [
        {
          "output_type": "execute_result",
          "data": {
            "text/plain": [
              "array([ 49.08,  95.  ,  99.8 ,  77.5 ,  95.2 ,  56.25,  91.99,  85.57,\n",
              "        82.96,  93.37,  78.32,  96.33, 104.9 ,  75.45,  74.58,  91.  ,\n",
              "       103.3 ,  94.4 ,  89.37,  63.55,  87.  ,  96.  ,  93.96,  78.03,\n",
              "        76.68])"
            ]
          },
          "metadata": {
            "tags": []
          },
          "execution_count": 15
        }
      ]
    },
    {
      "cell_type": "markdown",
      "metadata": {
        "id": "A3Q4aZN1dS4Y"
      },
      "source": [
        "25 different claims %age from 27 insurance providers"
      ]
    },
    {
      "cell_type": "code",
      "metadata": {
        "colab": {
          "base_uri": "https://localhost:8080/"
        },
        "id": "Jdf54QHQdSfk",
        "outputId": "3e6d20b6-5741-4eb6-d0f9-556e0db40320"
      },
      "source": [
        "### Network_Hospitals\n",
        "ghi.Network_Hospitals.unique()                               "
      ],
      "execution_count": null,
      "outputs": [
        {
          "output_type": "execute_result",
          "data": {
            "text/plain": [
              "array([ 8200,  5000, 10000,  4500, 15500,  7240,  4000,  2578,  5100,\n",
              "        5900,  6500,  6400,  6000,  3000,  7000,  7300, 10200,  4300])"
            ]
          },
          "metadata": {
            "tags": []
          },
          "execution_count": 16
        }
      ]
    },
    {
      "cell_type": "markdown",
      "metadata": {
        "id": "ysdr5-OrdjJZ"
      },
      "source": [
        "16 Unique values"
      ]
    },
    {
      "cell_type": "markdown",
      "metadata": {
        "id": "4xg51pWC6CrM"
      },
      "source": [
        "## **Concatinating Insurance provider name and Name of the product**"
      ]
    },
    {
      "cell_type": "code",
      "metadata": {
        "id": "NtTvBcjy8KlI"
      },
      "source": [
        "ghi['Provider_product'] = ghi[['Insurance_Provider_Name', 'Name_of_the_Product']].apply(lambda x: ' '.join(x), axis = 1)"
      ],
      "execution_count": null,
      "outputs": []
    },
    {
      "cell_type": "markdown",
      "metadata": {
        "id": "MmuaharY9q_Q"
      },
      "source": [
        "## **Rearranging Columns : Moving Provider_product to First in dataframe**"
      ]
    },
    {
      "cell_type": "code",
      "metadata": {
        "id": "y_w2x8Jr9iXJ"
      },
      "source": [
        "# Shift column 'Premium_per_year' to first position\n",
        "first_column = ghi.pop('Provider_product')\n",
        "  \n",
        "# insert column to first in data frame \n",
        "ghi.insert(0, 'Provider_product', first_column)"
      ],
      "execution_count": null,
      "outputs": []
    },
    {
      "cell_type": "code",
      "metadata": {
        "colab": {
          "base_uri": "https://localhost:8080/"
        },
        "id": "gHmhw9D0-CII",
        "outputId": "3797a76a-419e-46ca-c4ac-6b2b1be77974"
      },
      "source": [
        "ghi.shape"
      ],
      "execution_count": null,
      "outputs": [
        {
          "output_type": "execute_result",
          "data": {
            "text/plain": [
              "(39, 21)"
            ]
          },
          "metadata": {
            "tags": []
          },
          "execution_count": 34
        }
      ]
    },
    {
      "cell_type": "markdown",
      "metadata": {
        "id": "kkesp3aTa6kd"
      },
      "source": [
        "## **Dropping zero variance & irrelevant columns**"
      ]
    },
    {
      "cell_type": "code",
      "metadata": {
        "id": "M1uS1GDya93E"
      },
      "source": [
        "Ghi = ghi.drop(['Insurance_Provider_Name','Name_of_the_Product','Policy_Term','Sum_Insured','Group_Size','Age_Group'],axis=1)"
      ],
      "execution_count": null,
      "outputs": []
    },
    {
      "cell_type": "code",
      "metadata": {
        "colab": {
          "base_uri": "https://localhost:8080/"
        },
        "id": "TUWo63SvQR5-",
        "outputId": "367d8b86-5823-4c4e-b9a3-cd68bd0b5807"
      },
      "source": [
        "Ghi.shape"
      ],
      "execution_count": null,
      "outputs": [
        {
          "output_type": "execute_result",
          "data": {
            "text/plain": [
              "(39, 15)"
            ]
          },
          "metadata": {
            "tags": []
          },
          "execution_count": 36
        }
      ]
    },
    {
      "cell_type": "markdown",
      "metadata": {
        "id": "k81QJeCkbuJz"
      },
      "source": [
        "# **VISUALIZATION & EDA**\n",
        "\n"
      ]
    },
    {
      "cell_type": "code",
      "metadata": {
        "colab": {
          "base_uri": "https://localhost:8080/",
          "height": 297
        },
        "id": "Ib_vCW-6b8J0",
        "outputId": "e5aa5036-3746-49f4-fd74-baabbd30d8f3"
      },
      "source": [
        "Ghi.describe()"
      ],
      "execution_count": null,
      "outputs": [
        {
          "output_type": "execute_result",
          "data": {
            "text/html": [
              "<div>\n",
              "<style scoped>\n",
              "    .dataframe tbody tr th:only-of-type {\n",
              "        vertical-align: middle;\n",
              "    }\n",
              "\n",
              "    .dataframe tbody tr th {\n",
              "        vertical-align: top;\n",
              "    }\n",
              "\n",
              "    .dataframe thead th {\n",
              "        text-align: right;\n",
              "    }\n",
              "</style>\n",
              "<table border=\"1\" class=\"dataframe\">\n",
              "  <thead>\n",
              "    <tr style=\"text-align: right;\">\n",
              "      <th></th>\n",
              "      <th>Premium_per_year</th>\n",
              "      <th>Ambulance_Charges</th>\n",
              "      <th>Pre_hospitalization_Days</th>\n",
              "      <th>Post_hospitalization_Days</th>\n",
              "      <th>Claims_Ratio</th>\n",
              "      <th>Network_Hospitals</th>\n",
              "    </tr>\n",
              "  </thead>\n",
              "  <tbody>\n",
              "    <tr>\n",
              "      <th>count</th>\n",
              "      <td>39.000000</td>\n",
              "      <td>39.000000</td>\n",
              "      <td>39.000000</td>\n",
              "      <td>39.000000</td>\n",
              "      <td>39.000000</td>\n",
              "      <td>39.000000</td>\n",
              "    </tr>\n",
              "    <tr>\n",
              "      <th>mean</th>\n",
              "      <td>243134.410256</td>\n",
              "      <td>1441.025641</td>\n",
              "      <td>31.538462</td>\n",
              "      <td>61.538462</td>\n",
              "      <td>86.749744</td>\n",
              "      <td>6764.564103</td>\n",
              "    </tr>\n",
              "    <tr>\n",
              "      <th>std</th>\n",
              "      <td>101074.751913</td>\n",
              "      <td>733.670638</td>\n",
              "      <td>6.703676</td>\n",
              "      <td>6.703676</td>\n",
              "      <td>13.716669</td>\n",
              "      <td>3267.100403</td>\n",
              "    </tr>\n",
              "    <tr>\n",
              "      <th>min</th>\n",
              "      <td>99469.000000</td>\n",
              "      <td>1000.000000</td>\n",
              "      <td>30.000000</td>\n",
              "      <td>60.000000</td>\n",
              "      <td>49.080000</td>\n",
              "      <td>2578.000000</td>\n",
              "    </tr>\n",
              "    <tr>\n",
              "      <th>25%</th>\n",
              "      <td>158231.000000</td>\n",
              "      <td>1000.000000</td>\n",
              "      <td>30.000000</td>\n",
              "      <td>60.000000</td>\n",
              "      <td>78.175000</td>\n",
              "      <td>4500.000000</td>\n",
              "    </tr>\n",
              "    <tr>\n",
              "      <th>50%</th>\n",
              "      <td>216648.000000</td>\n",
              "      <td>1000.000000</td>\n",
              "      <td>30.000000</td>\n",
              "      <td>60.000000</td>\n",
              "      <td>93.370000</td>\n",
              "      <td>6000.000000</td>\n",
              "    </tr>\n",
              "    <tr>\n",
              "      <th>75%</th>\n",
              "      <td>311871.500000</td>\n",
              "      <td>1750.000000</td>\n",
              "      <td>30.000000</td>\n",
              "      <td>60.000000</td>\n",
              "      <td>95.200000</td>\n",
              "      <td>7750.000000</td>\n",
              "    </tr>\n",
              "    <tr>\n",
              "      <th>max</th>\n",
              "      <td>458076.000000</td>\n",
              "      <td>4000.000000</td>\n",
              "      <td>60.000000</td>\n",
              "      <td>90.000000</td>\n",
              "      <td>104.900000</td>\n",
              "      <td>15500.000000</td>\n",
              "    </tr>\n",
              "  </tbody>\n",
              "</table>\n",
              "</div>"
            ],
            "text/plain": [
              "       Premium_per_year  Ambulance_Charges  ...  Claims_Ratio  Network_Hospitals\n",
              "count         39.000000          39.000000  ...     39.000000          39.000000\n",
              "mean      243134.410256        1441.025641  ...     86.749744        6764.564103\n",
              "std       101074.751913         733.670638  ...     13.716669        3267.100403\n",
              "min        99469.000000        1000.000000  ...     49.080000        2578.000000\n",
              "25%       158231.000000        1000.000000  ...     78.175000        4500.000000\n",
              "50%       216648.000000        1000.000000  ...     93.370000        6000.000000\n",
              "75%       311871.500000        1750.000000  ...     95.200000        7750.000000\n",
              "max       458076.000000        4000.000000  ...    104.900000       15500.000000\n",
              "\n",
              "[8 rows x 6 columns]"
            ]
          },
          "metadata": {
            "tags": []
          },
          "execution_count": 37
        }
      ]
    },
    {
      "cell_type": "markdown",
      "metadata": {
        "id": "TN9h9WtFcJJS"
      },
      "source": [
        "## **Univariate Analysis**"
      ]
    },
    {
      "cell_type": "code",
      "metadata": {
        "colab": {
          "base_uri": "https://localhost:8080/",
          "height": 318
        },
        "id": "V1WIELLigU0r",
        "outputId": "3f8fe9b6-5ab2-4eec-db57-167801bc37ad"
      },
      "source": [
        "# Pie chart of Group-Size\n",
        "labels = ['2-25', '26-50', '51-100', '101-250']\n",
        "sizes = [Ghi['Group_Size_binned'].value_counts()[1],\n",
        "         Ghi['Group_Size_binned'].value_counts()[2],\n",
        "         Ghi['Group_Size_binned'].value_counts()[3],\n",
        "         Ghi['Group_Size_binned'].value_counts()[4]\n",
        "        ]\n",
        "# print(sizes) # adds up to 1433, which is the total number of participants\n",
        "fig1, ax1 = plt.subplots()\n",
        "ax1.pie(sizes, labels=labels, autopct='%1.1f%%',colors='RBGY')\n",
        "ax1.axis('equal')\n",
        "plt.title('Number of employees in groups')\n",
        "plt.show()"
      ],
      "execution_count": null,
      "outputs": [
        {
          "output_type": "stream",
          "text": [
            "/usr/local/lib/python3.7/dist-packages/ipykernel_launcher.py:10: MatplotlibDeprecationWarning: Support for uppercase single-letter colors is deprecated since Matplotlib 3.1 and will be removed in 3.3; please use lowercase instead.\n",
            "  # Remove the CWD from sys.path while we load stuff.\n"
          ],
          "name": "stderr"
        },
        {
          "output_type": "display_data",
          "data": {
            "image/png": "[encoded data removed]",
            "text/plain": [
              "<Figure size 432x288 with 1 Axes>"
            ]
          },
          "metadata": {
            "tags": []
          }
        }
      ]
    },
    {
      "cell_type": "markdown",
      "metadata": {
        "id": "qj3swI-ibd9e"
      },
      "source": [
        "Most selling Group health policy is of group size which has 26-50 employees in it."
      ]
    },
    {
      "cell_type": "code",
      "metadata": {
        "colab": {
          "base_uri": "https://localhost:8080/",
          "height": 485
        },
        "id": "i0OAv8RjeLoW",
        "outputId": "18e58c8c-900b-4c79-cceb-765bfcab670d"
      },
      "source": [
        "plt.figure(figsize=(12,9))\n",
        "sns.catplot(x=\"Sum_Insured\", kind=\"count\", data=Ghi)\n",
        "plt.title('Available Sum Insured in policies')\n",
        "plt.xticks(rotation=90)"
      ],
      "execution_count": null,
      "outputs": [
        {
          "output_type": "execute_result",
          "data": {
            "text/plain": [
              "(array([ 0,  1,  2,  3,  4,  5,  6,  7,  8,  9, 10, 11, 12, 13]),\n",
              " <a list of 14 Text major ticklabel objects>)"
            ]
          },
          "metadata": {
            "tags": []
          },
          "execution_count": 52
        },
        {
          "output_type": "display_data",
          "data": {
            "text/plain": [
              "<Figure size 864x648 with 0 Axes>"
            ]
          },
          "metadata": {
            "tags": []
          }
        },
        {
          "output_type": "display_data",
          "data": {
            "image/png": "[encoded data removed]",
            "text/plain": [
              "<Figure size 360x360 with 1 Axes>"
            ]
          },
          "metadata": {
            "tags": [],
            "needs_background": "light"
          }
        }
      ]
    },
    {
      "cell_type": "markdown",
      "metadata": {
        "id": "b3krtbRnb9ln"
      },
      "source": [
        "5 lacs sum insured is most preferred."
      ]
    },
    {
      "cell_type": "code",
      "metadata": {
        "colab": {
          "base_uri": "https://localhost:8080/",
          "height": 434
        },
        "id": "QY09QRAqepcO",
        "outputId": "b2111468-8132-4643-c098-80eccbb41a93"
      },
      "source": [
        "plt.figure(figsize=(12,9))\n",
        "sns.catplot(x=\"Age_Group\", kind=\"count\", data=Ghi)\n",
        "plt.title('Different age group of Employees')"
      ],
      "execution_count": null,
      "outputs": [
        {
          "output_type": "execute_result",
          "data": {
            "text/plain": [
              "Text(0.5, 1.0, 'Different age group of Employees')"
            ]
          },
          "metadata": {
            "tags": []
          },
          "execution_count": 51
        },
        {
          "output_type": "display_data",
          "data": {
            "text/plain": [
              "<Figure size 864x648 with 0 Axes>"
            ]
          },
          "metadata": {
            "tags": []
          }
        },
        {
          "output_type": "display_data",
          "data": {
            "image/png": "[encoded data removed]",
            "text/plain": [
              "<Figure size 360x360 with 1 Axes>"
            ]
          },
          "metadata": {
            "tags": [],
            "needs_background": "light"
          }
        }
      ]
    },
    {
      "cell_type": "markdown",
      "metadata": {
        "id": "onj0nmCeeC2P"
      },
      "source": [
        "Most employees belong to age group of 18-35 who have group health polcies."
      ]
    },
    {
      "cell_type": "markdown",
      "metadata": {
        "id": "-tlXQmBRdXCS"
      },
      "source": [
        "So based on the above graphs we can say most preferred among corporates is group size of 50 with age group of 18-35 and sum insured of 5 Lacs. "
      ]
    },
    {
      "cell_type": "code",
      "metadata": {
        "colab": {
          "base_uri": "https://localhost:8080/",
          "height": 473
        },
        "id": "t2oZkKHDSuhG",
        "outputId": "37805b57-43d2-4daa-acd2-b61fd3e8a8e2"
      },
      "source": [
        "plt.figure(figsize=(12,9))\n",
        "sns.catplot(x=\"Ambulance_Charges\", kind=\"count\", data=Ghi)\n",
        "plt.title('Most common ambulance charges')\n",
        "plt.xticks(rotation=90)"
      ],
      "execution_count": null,
      "outputs": [
        {
          "output_type": "execute_result",
          "data": {
            "text/plain": [
              "(array([ 0,  1,  2,  3,  4,  5,  6,  7,  8,  9, 10, 11, 12]),\n",
              " <a list of 13 Text major ticklabel objects>)"
            ]
          },
          "metadata": {
            "tags": []
          },
          "execution_count": 50
        },
        {
          "output_type": "display_data",
          "data": {
            "text/plain": [
              "<Figure size 864x648 with 0 Axes>"
            ]
          },
          "metadata": {
            "tags": []
          }
        },
        {
          "output_type": "display_data",
          "data": {
            "image/png": "[encoded data removed]",
            "text/plain": [
              "<Figure size 360x360 with 1 Axes>"
            ]
          },
          "metadata": {
            "tags": [],
            "needs_background": "light"
          }
        }
      ]
    },
    {
      "cell_type": "markdown",
      "metadata": {
        "id": "y3sLkglyd0Fe"
      },
      "source": [
        "## **Bi Variate Analysis**"
      ]
    },
    {
      "cell_type": "code",
      "metadata": {
        "colab": {
          "base_uri": "https://localhost:8080/",
          "height": 406
        },
        "id": "xsN0U1NYdYcH",
        "outputId": "42a94bea-e51a-4a02-e500-95315dce650b"
      },
      "source": [
        "sns.relplot(x='Age_Group',y='Premium_per_year',data=Ghi,palette='husl')\n",
        "plt.title('Age_Group vs Premium_per_year')"
      ],
      "execution_count": null,
      "outputs": [
        {
          "output_type": "execute_result",
          "data": {
            "text/plain": [
              "Text(0.5, 1.0, 'Age_Group vs Premium_per_year')"
            ]
          },
          "metadata": {
            "tags": []
          },
          "execution_count": 49
        },
        {
          "output_type": "display_data",
          "data": {
            "image/png": "[encoded data removed]",
            "text/plain": [
              "<Figure size 360x360 with 1 Axes>"
            ]
          },
          "metadata": {
            "tags": [],
            "needs_background": "light"
          }
        }
      ]
    },
    {
      "cell_type": "markdown",
      "metadata": {
        "id": "qiPrzQXOfSM3"
      },
      "source": [
        "As we can see premium increasing as age group increases"
      ]
    },
    {
      "cell_type": "code",
      "metadata": {
        "colab": {
          "base_uri": "https://localhost:8080/",
          "height": 677
        },
        "id": "LazUox7ogXvd",
        "outputId": "454e29c6-d3a5-46da-92b9-69985bebc92a"
      },
      "source": [
        "plt.figure(figsize=(12,9))\n",
        "corelation = Ghi.corr() \n",
        "sns.heatmap(corelation, xticklabels=corelation.columns,\n",
        "            yticklabels=corelation.columns,cmap=\"YlGnBu\",annot=True)"
      ],
      "execution_count": null,
      "outputs": [
        {
          "output_type": "execute_result",
          "data": {
            "text/plain": [
              "<matplotlib.axes._subplots.AxesSubplot at 0x7fb8f8505810>"
            ]
          },
          "metadata": {
            "tags": []
          },
          "execution_count": 38
        },
        {
          "output_type": "display_data",
          "data": {
            "image/png": "[encoded data removed]",
            "text/plain": [
              "<Figure size 864x648 with 2 Axes>"
            ]
          },
          "metadata": {
            "tags": [],
            "needs_background": "light"
          }
        }
      ]
    },
    {
      "cell_type": "markdown",
      "metadata": {
        "id": "QgjN0ThWhX8F"
      },
      "source": [
        "Pre hospitalization days and post hospitalization days hsving perfect positive corealtion. So we need ro drop either one of them."
      ]
    },
    {
      "cell_type": "markdown",
      "metadata": {
        "id": "VQQsZn95hm-a"
      },
      "source": [
        "### **Dropping Pre hospitalization column**\n",
        "\n"
      ]
    },
    {
      "cell_type": "markdown",
      "metadata": {
        "id": "Bl-6tDNzYezj"
      },
      "source": [
        "### **Also Dropping Insurance provider name and name of the product column**"
      ]
    },
    {
      "cell_type": "code",
      "metadata": {
        "id": "ACQY6iejhxjz"
      },
      "source": [
        "Group_HI = Ghi.drop(['Pre_hospitalization_Days'],axis=1)"
      ],
      "execution_count": null,
      "outputs": []
    },
    {
      "cell_type": "code",
      "metadata": {
        "colab": {
          "base_uri": "https://localhost:8080/"
        },
        "id": "gyo3DKaHh6OX",
        "outputId": "02524ba1-001b-44c5-8c98-2e1b796dbf67"
      },
      "source": [
        "Group_HI.shape"
      ],
      "execution_count": null,
      "outputs": [
        {
          "output_type": "execute_result",
          "data": {
            "text/plain": [
              "(39, 14)"
            ]
          },
          "metadata": {
            "tags": []
          },
          "execution_count": 40
        }
      ]
    },
    {
      "cell_type": "markdown",
      "metadata": {
        "id": "cz1vXU53bECD"
      },
      "source": [
        "## **Histogram**"
      ]
    },
    {
      "cell_type": "code",
      "metadata": {
        "colab": {
          "base_uri": "https://localhost:8080/",
          "height": 682
        },
        "id": "97EqC6ZKbLip",
        "outputId": "fdc25dcf-57da-4bd5-e7f2-7b6b3d46785f"
      },
      "source": [
        "numeric_columns = Group_HI.select_dtypes(include=np.number).columns.tolist()\n",
        "\n",
        "plt.figure(figsize=(20,30))\n",
        "\n",
        "for i, variable in enumerate(numeric_columns):\n",
        "                     plt.subplot(5,4,i+1)\n",
        "                     plt.hist(Group_HI[variable])\n",
        "                     plt.title(variable)\n",
        "\n",
        "plt.show()"
      ],
      "execution_count": null,
      "outputs": [
        {
          "output_type": "display_data",
          "data": {
            "image/png": "[encoded data removed]",
            "text/plain": [
              "<Figure size 1440x2160 with 5 Axes>"
            ]
          },
          "metadata": {
            "tags": [],
            "needs_background": "light"
          }
        }
      ]
    },
    {
      "cell_type": "markdown",
      "metadata": {
        "id": "EWwz5uxtZQIO"
      },
      "source": [
        "## **Outlier Detection**"
      ]
    },
    {
      "cell_type": "code",
      "metadata": {
        "colab": {
          "base_uri": "https://localhost:8080/",
          "height": 682
        },
        "id": "xziH-nuIaUI_",
        "outputId": "f5115522-b9e9-4a5b-ab9d-4adafffe2b47"
      },
      "source": [
        "numeric_columns = Group_HI.select_dtypes(include=np.number).columns.tolist()\n",
        "\n",
        "plt.figure(figsize=(20,30))\n",
        "\n",
        "for i, variable in enumerate(numeric_columns):\n",
        "                     plt.subplot(5,4,i+1)\n",
        "                     plt.boxplot(Group_HI[variable],whis=1.5)\n",
        "                     plt.title(variable)\n",
        "\n",
        "plt.show()"
      ],
      "execution_count": null,
      "outputs": [
        {
          "output_type": "display_data",
          "data": {
            "image/png": "[encoded data removed]",
            "text/plain": [
              "<Figure size 1440x2160 with 5 Axes>"
            ]
          },
          "metadata": {
            "tags": [],
            "needs_background": "light"
          }
        }
      ]
    },
    {
      "cell_type": "markdown",
      "metadata": {
        "id": "X3kL-l9Da25P"
      },
      "source": [
        "**Percentage of outliers in each numerical column**"
      ]
    },
    {
      "cell_type": "code",
      "metadata": {
        "colab": {
          "base_uri": "https://localhost:8080/"
        },
        "id": "zckKaY27Xopl",
        "outputId": "3fc87bf8-c3d1-4263-b7be-589290c97909"
      },
      "source": [
        "# find outlier in all columns\n",
        "for i in Group_HI.select_dtypes(include=['float64','int64']).columns:\n",
        "  max_thresold = Group_HI[i].quantile(0.95)\n",
        "  min_thresold = Group_HI[i].quantile(0.05)\n",
        "  Group_HI_no_outlier = Group_HI[(Group_HI[i] < max_thresold) & (Group_HI[i] > min_thresold)].shape\n",
        "  print(\" outlier in \",i,\"is\" ,int(((Group_HI.shape[0]-Group_HI_no_outlier[0])/Group_HI.shape[0])*100),\"%\")"
      ],
      "execution_count": null,
      "outputs": [
        {
          "output_type": "stream",
          "text": [
            " outlier in  Premium_per_year is 10 %\n",
            " outlier in  Ambulance_Charges is 66 %\n",
            " outlier in  Post_hospitalization_Days is 100 %\n",
            " outlier in  Claims_Ratio is 10 %\n",
            " outlier in  Network_Hospitals is 12 %\n"
          ],
          "name": "stdout"
        }
      ]
    },
    {
      "cell_type": "markdown",
      "metadata": {
        "id": "oKn9ZG3tZfiR"
      },
      "source": [
        "**We are not removing outlier here as it contains an important information for our modelling.**"
      ]
    },
    {
      "cell_type": "markdown",
      "metadata": {
        "id": "t--kDlCecU4-"
      },
      "source": [
        "## **Label Encoding**"
      ]
    },
    {
      "cell_type": "code",
      "metadata": {
        "id": "5MgHr_HCb6Nb"
      },
      "source": [
        "# Import label encoder\n",
        "from sklearn import preprocessing\n",
        "\n",
        "label_encoder = preprocessing.LabelEncoder()\n",
        "  \n",
        "Group_HI['Domiciliary_Hospitalization_Expenses']= label_encoder.fit_transform(Group_HI['Domiciliary_Hospitalization_Expenses'])\n",
        "Group_HI['Pre_Existing_Disease_Day_1']= label_encoder.fit_transform(Group_HI['Pre_Existing_Disease_Day_1'])\n",
        "Group_HI['Maternity_Benefits']= label_encoder.fit_transform(Group_HI['Maternity_Benefits'])\n",
        "Group_HI['Organ_donor_cover']= label_encoder.fit_transform(Group_HI['Organ_donor_cover'])\n",
        "Group_HI['Ayush']= label_encoder.fit_transform(Group_HI['Ayush'])\n",
        "Group_HI['Dental']= label_encoder.fit_transform(Group_HI['Dental'])\n",
        "Group_HI['Newborn_Baby_Cover_Day_1']= label_encoder.fit_transform(Group_HI['Newborn_Baby_Cover_Day_1'])\n",
        "Group_HI['Covid_19']= label_encoder.fit_transform(Group_HI['Covid_19'])"
      ],
      "execution_count": null,
      "outputs": []
    },
    {
      "cell_type": "code",
      "metadata": {
        "colab": {
          "base_uri": "https://localhost:8080/"
        },
        "id": "EW3g4dvxcxDe",
        "outputId": "0bedb42d-e7b9-40ac-9b5e-22557947676e"
      },
      "source": [
        "Group_HI.shape"
      ],
      "execution_count": null,
      "outputs": [
        {
          "output_type": "execute_result",
          "data": {
            "text/plain": [
              "(39, 14)"
            ]
          },
          "metadata": {
            "tags": []
          },
          "execution_count": 52
        }
      ]
    },
    {
      "cell_type": "markdown",
      "metadata": {
        "id": "oWSFMUmoc0yq"
      },
      "source": [
        "After one hot encoding we have 39 rows and 14 columns"
      ]
    },
    {
      "cell_type": "markdown",
      "metadata": {
        "id": "7fvqDbiGjVOr"
      },
      "source": [
        "# **Clustering**"
      ]
    },
    {
      "cell_type": "code",
      "metadata": {
        "id": "Rc2R1gjrj0yA"
      },
      "source": [
        "# Importing required libraries\n",
        "import os\n",
        "from sklearn.cluster import KMeans\n",
        "from sklearn.metrics import silhouette_samples, silhouette_score"
      ],
      "execution_count": null,
      "outputs": []
    },
    {
      "cell_type": "code",
      "metadata": {
        "colab": {
          "base_uri": "https://localhost:8080/"
        },
        "id": "4Wv3hgqdAhCg",
        "outputId": "9189ec63-2c80-43cd-93ad-0ba5551509db"
      },
      "source": [
        "Ghi_cluster = Group_HI.iloc[:,1:]\n",
        "Ghi_cluster.shape"
      ],
      "execution_count": null,
      "outputs": [
        {
          "output_type": "execute_result",
          "data": {
            "text/plain": [
              "(39, 13)"
            ]
          },
          "metadata": {
            "tags": []
          },
          "execution_count": 55
        }
      ]
    },
    {
      "cell_type": "markdown",
      "metadata": {
        "id": "C-MhnX5QYuYN"
      },
      "source": [
        "## **Finding K-Value**"
      ]
    },
    {
      "cell_type": "code",
      "metadata": {
        "id": "P6Ygeih2SblE"
      },
      "source": [
        "X=Ghi_cluster.values\n",
        "wcss=[]\n",
        "sil=[]\n",
        "#this loop will fit the k-means algorithm to our data and \n",
        "#second we will compute the within cluster sum of squares and #appended to our wcss list.\n",
        "for i in range(2,10): \n",
        "     kmeans = KMeans(n_clusters=i, init ='k-means++', max_iter=300,  n_init=10,random_state=42 )\n",
        "     kmeans.fit(X)\n",
        "     wcss.append(kmeans.inertia_)\n",
        "     labels=kmeans.labels_\n",
        "     silhoutte=silhouette_score(Ghi_cluster.values, labels, metric = 'euclidean')\n",
        "     sil.append(silhoutte)"
      ],
      "execution_count": null,
      "outputs": []
    },
    {
      "cell_type": "markdown",
      "metadata": {
        "id": "IGZ_GP0Bs11I"
      },
      "source": [
        "## **Plotting K-Value & silhoutte Scores**"
      ]
    },
    {
      "cell_type": "code",
      "metadata": {
        "colab": {
          "base_uri": "https://localhost:8080/",
          "height": 513
        },
        "id": "bRlKUcL0nlu7",
        "outputId": "592f3a83-fb60-4f09-9056-d56972f62697"
      },
      "source": [
        "from matplotlib import style\n",
        "from matplotlib.ticker import MaxNLocator\n",
        "k=range(2,10)\n",
        "style.use(\"bmh\")\n",
        "fig,ax=plt.subplots(figsize=(14,8))\n",
        "ax.set_facecolor(\"white\")\n",
        "ax.plot(k, wcss, color=\"green\")\n",
        "ax.xaxis.set_major_locator(MaxNLocator(nbins=15, integer=True))\n",
        "ax.set_xlabel(\"No of clusters\", fontsize=20)\n",
        "ax.set_ylabel(\"WSS (With in Sum of squares)\", fontsize=20)\n",
        "ax2=ax.twinx()\n",
        "ax2.plot(k, sil, color=\"blue\")\n",
        "ax2.set_ylabel(\"Silhouette scores\", fontsize=20)\n",
        "ax2.grid(True,color=\"silver\")\n",
        "plt.show()"
      ],
      "execution_count": null,
      "outputs": [
        {
          "output_type": "display_data",
          "data": {
            "image/png": "[encoded data removed]",
            "text/plain": [
              "<Figure size 1008x576 with 2 Axes>"
            ]
          },
          "metadata": {
            "tags": [],
            "needs_background": "light"
          }
        }
      ]
    },
    {
      "cell_type": "code",
      "metadata": {
        "id": "Fe_2RtfxmRxY"
      },
      "source": [
        "kmeans = KMeans(n_clusters=3, init ='k-means++', max_iter=100, n_init=10,random_state=0 )"
      ],
      "execution_count": null,
      "outputs": []
    },
    {
      "cell_type": "code",
      "metadata": {
        "id": "t9Cu8cKBmcyX"
      },
      "source": [
        "y_kmeans = kmeans.fit_predict(X)"
      ],
      "execution_count": null,
      "outputs": []
    },
    {
      "cell_type": "code",
      "metadata": {
        "colab": {
          "base_uri": "https://localhost:8080/",
          "height": 591
        },
        "id": "tmptJYVXm0u_",
        "outputId": "6448e606-1629-4cfe-8076-2076af1c0e62"
      },
      "source": [
        "plt.figure(figsize=(10,5))\n",
        "c1 = plt.scatter(X[y_kmeans==0, 0], X[y_kmeans==0, 1], s=100, c='red')\n",
        "c2 = plt.scatter(X[y_kmeans==1, 0], X[y_kmeans==1, 1], s=100, c='blue')\n",
        "c3 = plt.scatter(X[y_kmeans==2, 0], X[y_kmeans==2, 1], s=100, c='green')\n",
        "\n",
        "plt.scatter(kmeans.cluster_centers_[:, 0], kmeans.cluster_centers_[:, 1], s=150, c='yellow', label = 'Centroids')\n",
        "plt.legend((c1,c2,c3),\n",
        "           ('Cluster 1', 'Clusetr 2', 'Cluster 3'),\n",
        "           scatterpoints=1,\n",
        "           loc='bottom left',\n",
        "           ncol=2,\n",
        "           fontsize=8)\n",
        "plt.title('Clusters of Policy')\n",
        "plt.show()"
      ],
      "execution_count": null,
      "outputs": [
        {
          "output_type": "stream",
          "text": [
            "/usr/local/lib/python3.7/dist-packages/ipykernel_launcher.py:12: MatplotlibDeprecationWarning: Unrecognized location 'bottom left'. Falling back on 'best'; valid locations are\n",
            "\tbest\n",
            "\tupper right\n",
            "\tupper left\n",
            "\tlower left\n",
            "\tlower right\n",
            "\tright\n",
            "\tcenter left\n",
            "\tcenter right\n",
            "\tlower center\n",
            "\tupper center\n",
            "\tcenter\n",
            "This will raise an exception in 3.3.\n",
            "  if sys.path[0] == '':\n"
          ],
          "name": "stderr"
        },
        {
          "output_type": "display_data",
          "data": {
            "image/png": "[encoded data removed]",
            "text/plain": [
              "<Figure size 720x360 with 1 Axes>"
            ]
          },
          "metadata": {
            "tags": [],
            "needs_background": "light"
          }
        }
      ]
    },
    {
      "cell_type": "markdown",
      "metadata": {
        "id": "4ZHZhEDMSkSS"
      },
      "source": [
        "## **Finding clusters centers & labels**"
      ]
    },
    {
      "cell_type": "code",
      "metadata": {
        "colab": {
          "base_uri": "https://localhost:8080/"
        },
        "id": "EQKN9z4EAjKh",
        "outputId": "ae1bd984-b439-4378-e600-3f81f901958b"
      },
      "source": [
        "kmeans.cluster_centers_\n",
        "kmeans.labels_"
      ],
      "execution_count": null,
      "outputs": [
        {
          "output_type": "execute_result",
          "data": {
            "text/plain": [
              "array([2, 1, 2, 1, 1, 1, 1, 0, 0, 1, 1, 2, 1, 1, 1, 1, 1, 0, 0, 1, 2, 2,\n",
              "       2, 2, 1, 0, 1, 1, 1, 1, 1, 1, 1, 0, 1, 0, 0, 0, 0], dtype=int32)"
            ]
          },
          "metadata": {
            "tags": []
          },
          "execution_count": 64
        }
      ]
    },
    {
      "cell_type": "code",
      "metadata": {
        "colab": {
          "base_uri": "https://localhost:8080/",
          "height": 377
        },
        "id": "pVsu-xkCCoND",
        "outputId": "b17e7039-6bce-4d7a-8ab6-8e7ef3c9911b"
      },
      "source": [
        "Group_HI_cluster = pd.concat([ghi,pd.DataFrame({'cluster':kmeans.labels_})],axis=1)\n",
        "Group_HI_cluster.head()"
      ],
      "execution_count": null,
      "outputs": [
        {
          "output_type": "execute_result",
          "data": {
            "text/html": [
              "<div>\n",
              "<style scoped>\n",
              "    .dataframe tbody tr th:only-of-type {\n",
              "        vertical-align: middle;\n",
              "    }\n",
              "\n",
              "    .dataframe tbody tr th {\n",
              "        vertical-align: top;\n",
              "    }\n",
              "\n",
              "    .dataframe thead th {\n",
              "        text-align: right;\n",
              "    }\n",
              "</style>\n",
              "<table border=\"1\" class=\"dataframe\">\n",
              "  <thead>\n",
              "    <tr style=\"text-align: right;\">\n",
              "      <th></th>\n",
              "      <th>Provider_product</th>\n",
              "      <th>Insurance_Provider_Name</th>\n",
              "      <th>Name_of_the_Product</th>\n",
              "      <th>Group_Size</th>\n",
              "      <th>Sum_Insured</th>\n",
              "      <th>Premium_per_year</th>\n",
              "      <th>Age_Group</th>\n",
              "      <th>Policy_Term</th>\n",
              "      <th>Ambulance_Charges</th>\n",
              "      <th>Domiciliary_Hospitalization_Expenses</th>\n",
              "      <th>Pre_Existing_Disease_Day_1</th>\n",
              "      <th>Maternity_Benefits</th>\n",
              "      <th>Pre_hospitalization_Days</th>\n",
              "      <th>Post_hospitalization_Days</th>\n",
              "      <th>Claims_Ratio</th>\n",
              "      <th>Organ_donor_cover</th>\n",
              "      <th>Network_Hospitals</th>\n",
              "      <th>Ayush</th>\n",
              "      <th>Dental</th>\n",
              "      <th>Newborn_Baby_Cover_Day_1</th>\n",
              "      <th>Covid_19</th>\n",
              "      <th>cluster</th>\n",
              "    </tr>\n",
              "  </thead>\n",
              "  <tbody>\n",
              "    <tr>\n",
              "      <th>0</th>\n",
              "      <td>Aditya Birla Health Insurance Co Group Assure...</td>\n",
              "      <td>Aditya Birla Health Insurance Co</td>\n",
              "      <td>Group Assure COVID-19</td>\n",
              "      <td>50</td>\n",
              "      <td>200000</td>\n",
              "      <td>365582</td>\n",
              "      <td>18 - 65</td>\n",
              "      <td>1</td>\n",
              "      <td>1000</td>\n",
              "      <td>Covered</td>\n",
              "      <td>Not Covered</td>\n",
              "      <td>Not Covered</td>\n",
              "      <td>30</td>\n",
              "      <td>60</td>\n",
              "      <td>49.08</td>\n",
              "      <td>Not Covered</td>\n",
              "      <td>8200</td>\n",
              "      <td>Not Covered</td>\n",
              "      <td>Not Covered</td>\n",
              "      <td>Not Covered</td>\n",
              "      <td>Covered</td>\n",
              "      <td>2</td>\n",
              "    </tr>\n",
              "    <tr>\n",
              "      <th>1</th>\n",
              "      <td>Aditya Birla Health Insurance Co Group Arogya...</td>\n",
              "      <td>Aditya Birla Health Insurance Co</td>\n",
              "      <td>Group Arogya Sanjeevani Policy</td>\n",
              "      <td>50</td>\n",
              "      <td>200000</td>\n",
              "      <td>219196</td>\n",
              "      <td>18 - 65</td>\n",
              "      <td>1</td>\n",
              "      <td>1000</td>\n",
              "      <td>Covered</td>\n",
              "      <td>Not Covered</td>\n",
              "      <td>Not Covered</td>\n",
              "      <td>30</td>\n",
              "      <td>60</td>\n",
              "      <td>49.08</td>\n",
              "      <td>Covered</td>\n",
              "      <td>8200</td>\n",
              "      <td>Covered</td>\n",
              "      <td>Not Covered</td>\n",
              "      <td>Covered</td>\n",
              "      <td>Not Covered</td>\n",
              "      <td>1</td>\n",
              "    </tr>\n",
              "    <tr>\n",
              "      <th>2</th>\n",
              "      <td>Acko General Insurance Co. Ltd.  Acko Group He...</td>\n",
              "      <td>Acko General Insurance Co. Ltd.</td>\n",
              "      <td>Acko Group Health Insurance Policy</td>\n",
              "      <td>50</td>\n",
              "      <td>200000</td>\n",
              "      <td>396480</td>\n",
              "      <td>18 - 65</td>\n",
              "      <td>1</td>\n",
              "      <td>4000</td>\n",
              "      <td>Covered</td>\n",
              "      <td>Covered</td>\n",
              "      <td>Not Covered</td>\n",
              "      <td>30</td>\n",
              "      <td>60</td>\n",
              "      <td>95.00</td>\n",
              "      <td>Covered</td>\n",
              "      <td>5000</td>\n",
              "      <td>Not Covered</td>\n",
              "      <td>Not Covered</td>\n",
              "      <td>Covered</td>\n",
              "      <td>Not Covered</td>\n",
              "      <td>2</td>\n",
              "    </tr>\n",
              "    <tr>\n",
              "      <th>3</th>\n",
              "      <td>Bajaj Allianz General Insurance Company Limite...</td>\n",
              "      <td>Bajaj Allianz General Insurance Company Limited</td>\n",
              "      <td>Health Guard (Group)</td>\n",
              "      <td>50</td>\n",
              "      <td>200000</td>\n",
              "      <td>152673</td>\n",
              "      <td>18 - 65</td>\n",
              "      <td>1</td>\n",
              "      <td>1200</td>\n",
              "      <td>Not Covered</td>\n",
              "      <td>Not Covered</td>\n",
              "      <td>0 - 25000</td>\n",
              "      <td>60</td>\n",
              "      <td>90</td>\n",
              "      <td>99.80</td>\n",
              "      <td>Not Covered</td>\n",
              "      <td>10000</td>\n",
              "      <td>Not Covered</td>\n",
              "      <td>Not Covered</td>\n",
              "      <td>Not Covered</td>\n",
              "      <td>Not Covered</td>\n",
              "      <td>1</td>\n",
              "    </tr>\n",
              "    <tr>\n",
              "      <th>4</th>\n",
              "      <td>Bharati AXA Prime Health Insurance</td>\n",
              "      <td>Bharati AXA</td>\n",
              "      <td>Prime Health Insurance</td>\n",
              "      <td>50</td>\n",
              "      <td>200000</td>\n",
              "      <td>222948</td>\n",
              "      <td>18 - 65</td>\n",
              "      <td>1</td>\n",
              "      <td>3500</td>\n",
              "      <td>Covered</td>\n",
              "      <td>Not Covered</td>\n",
              "      <td>Not Covered</td>\n",
              "      <td>30</td>\n",
              "      <td>60</td>\n",
              "      <td>77.50</td>\n",
              "      <td>Covered</td>\n",
              "      <td>4500</td>\n",
              "      <td>Covered</td>\n",
              "      <td>Not Covered</td>\n",
              "      <td>Not Covered</td>\n",
              "      <td>Covered</td>\n",
              "      <td>1</td>\n",
              "    </tr>\n",
              "  </tbody>\n",
              "</table>\n",
              "</div>"
            ],
            "text/plain": [
              "                                    Provider_product  ... cluster\n",
              "0   Aditya Birla Health Insurance Co Group Assure...  ...       2\n",
              "1   Aditya Birla Health Insurance Co Group Arogya...  ...       1\n",
              "2  Acko General Insurance Co. Ltd.  Acko Group He...  ...       2\n",
              "3  Bajaj Allianz General Insurance Company Limite...  ...       1\n",
              "4                 Bharati AXA Prime Health Insurance  ...       1\n",
              "\n",
              "[5 rows x 22 columns]"
            ]
          },
          "metadata": {
            "tags": []
          },
          "execution_count": 65
        }
      ]
    },
    {
      "cell_type": "code",
      "metadata": {
        "id": "L8NnTc9nBc_E"
      },
      "source": [
        "# Shift column 'cluster' to first position\n",
        "first_column = Group_HI_cluster.pop('cluster')\n",
        "  \n",
        "# insert column to first in data frame \n",
        "Group_HI_cluster.insert(0, 'cluster', first_column)"
      ],
      "execution_count": null,
      "outputs": []
    },
    {
      "cell_type": "code",
      "metadata": {
        "colab": {
          "base_uri": "https://localhost:8080/",
          "height": 377
        },
        "id": "Bekyn-tcBqUF",
        "outputId": "1075dc01-a389-4ae1-f9ec-da4109c30c1e"
      },
      "source": [
        "Group_HI_cluster.head()"
      ],
      "execution_count": null,
      "outputs": [
        {
          "output_type": "execute_result",
          "data": {
            "text/html": [
              "<div>\n",
              "<style scoped>\n",
              "    .dataframe tbody tr th:only-of-type {\n",
              "        vertical-align: middle;\n",
              "    }\n",
              "\n",
              "    .dataframe tbody tr th {\n",
              "        vertical-align: top;\n",
              "    }\n",
              "\n",
              "    .dataframe thead th {\n",
              "        text-align: right;\n",
              "    }\n",
              "</style>\n",
              "<table border=\"1\" class=\"dataframe\">\n",
              "  <thead>\n",
              "    <tr style=\"text-align: right;\">\n",
              "      <th></th>\n",
              "      <th>cluster</th>\n",
              "      <th>Provider_product</th>\n",
              "      <th>Insurance_Provider_Name</th>\n",
              "      <th>Name_of_the_Product</th>\n",
              "      <th>Group_Size</th>\n",
              "      <th>Sum_Insured</th>\n",
              "      <th>Premium_per_year</th>\n",
              "      <th>Age_Group</th>\n",
              "      <th>Policy_Term</th>\n",
              "      <th>Ambulance_Charges</th>\n",
              "      <th>Domiciliary_Hospitalization_Expenses</th>\n",
              "      <th>Pre_Existing_Disease_Day_1</th>\n",
              "      <th>Maternity_Benefits</th>\n",
              "      <th>Pre_hospitalization_Days</th>\n",
              "      <th>Post_hospitalization_Days</th>\n",
              "      <th>Claims_Ratio</th>\n",
              "      <th>Organ_donor_cover</th>\n",
              "      <th>Network_Hospitals</th>\n",
              "      <th>Ayush</th>\n",
              "      <th>Dental</th>\n",
              "      <th>Newborn_Baby_Cover_Day_1</th>\n",
              "      <th>Covid_19</th>\n",
              "    </tr>\n",
              "  </thead>\n",
              "  <tbody>\n",
              "    <tr>\n",
              "      <th>0</th>\n",
              "      <td>2</td>\n",
              "      <td>Aditya Birla Health Insurance Co Group Assure...</td>\n",
              "      <td>Aditya Birla Health Insurance Co</td>\n",
              "      <td>Group Assure COVID-19</td>\n",
              "      <td>50</td>\n",
              "      <td>200000</td>\n",
              "      <td>365582</td>\n",
              "      <td>18 - 65</td>\n",
              "      <td>1</td>\n",
              "      <td>1000</td>\n",
              "      <td>Covered</td>\n",
              "      <td>Not Covered</td>\n",
              "      <td>Not Covered</td>\n",
              "      <td>30</td>\n",
              "      <td>60</td>\n",
              "      <td>49.08</td>\n",
              "      <td>Not Covered</td>\n",
              "      <td>8200</td>\n",
              "      <td>Not Covered</td>\n",
              "      <td>Not Covered</td>\n",
              "      <td>Not Covered</td>\n",
              "      <td>Covered</td>\n",
              "    </tr>\n",
              "    <tr>\n",
              "      <th>1</th>\n",
              "      <td>1</td>\n",
              "      <td>Aditya Birla Health Insurance Co Group Arogya...</td>\n",
              "      <td>Aditya Birla Health Insurance Co</td>\n",
              "      <td>Group Arogya Sanjeevani Policy</td>\n",
              "      <td>50</td>\n",
              "      <td>200000</td>\n",
              "      <td>219196</td>\n",
              "      <td>18 - 65</td>\n",
              "      <td>1</td>\n",
              "      <td>1000</td>\n",
              "      <td>Covered</td>\n",
              "      <td>Not Covered</td>\n",
              "      <td>Not Covered</td>\n",
              "      <td>30</td>\n",
              "      <td>60</td>\n",
              "      <td>49.08</td>\n",
              "      <td>Covered</td>\n",
              "      <td>8200</td>\n",
              "      <td>Covered</td>\n",
              "      <td>Not Covered</td>\n",
              "      <td>Covered</td>\n",
              "      <td>Not Covered</td>\n",
              "    </tr>\n",
              "    <tr>\n",
              "      <th>2</th>\n",
              "      <td>2</td>\n",
              "      <td>Acko General Insurance Co. Ltd.  Acko Group He...</td>\n",
              "      <td>Acko General Insurance Co. Ltd.</td>\n",
              "      <td>Acko Group Health Insurance Policy</td>\n",
              "      <td>50</td>\n",
              "      <td>200000</td>\n",
              "      <td>396480</td>\n",
              "      <td>18 - 65</td>\n",
              "      <td>1</td>\n",
              "      <td>4000</td>\n",
              "      <td>Covered</td>\n",
              "      <td>Covered</td>\n",
              "      <td>Not Covered</td>\n",
              "      <td>30</td>\n",
              "      <td>60</td>\n",
              "      <td>95.00</td>\n",
              "      <td>Covered</td>\n",
              "      <td>5000</td>\n",
              "      <td>Not Covered</td>\n",
              "      <td>Not Covered</td>\n",
              "      <td>Covered</td>\n",
              "      <td>Not Covered</td>\n",
              "    </tr>\n",
              "    <tr>\n",
              "      <th>3</th>\n",
              "      <td>1</td>\n",
              "      <td>Bajaj Allianz General Insurance Company Limite...</td>\n",
              "      <td>Bajaj Allianz General Insurance Company Limited</td>\n",
              "      <td>Health Guard (Group)</td>\n",
              "      <td>50</td>\n",
              "      <td>200000</td>\n",
              "      <td>152673</td>\n",
              "      <td>18 - 65</td>\n",
              "      <td>1</td>\n",
              "      <td>1200</td>\n",
              "      <td>Not Covered</td>\n",
              "      <td>Not Covered</td>\n",
              "      <td>0 - 25000</td>\n",
              "      <td>60</td>\n",
              "      <td>90</td>\n",
              "      <td>99.80</td>\n",
              "      <td>Not Covered</td>\n",
              "      <td>10000</td>\n",
              "      <td>Not Covered</td>\n",
              "      <td>Not Covered</td>\n",
              "      <td>Not Covered</td>\n",
              "      <td>Not Covered</td>\n",
              "    </tr>\n",
              "    <tr>\n",
              "      <th>4</th>\n",
              "      <td>1</td>\n",
              "      <td>Bharati AXA Prime Health Insurance</td>\n",
              "      <td>Bharati AXA</td>\n",
              "      <td>Prime Health Insurance</td>\n",
              "      <td>50</td>\n",
              "      <td>200000</td>\n",
              "      <td>222948</td>\n",
              "      <td>18 - 65</td>\n",
              "      <td>1</td>\n",
              "      <td>3500</td>\n",
              "      <td>Covered</td>\n",
              "      <td>Not Covered</td>\n",
              "      <td>Not Covered</td>\n",
              "      <td>30</td>\n",
              "      <td>60</td>\n",
              "      <td>77.50</td>\n",
              "      <td>Covered</td>\n",
              "      <td>4500</td>\n",
              "      <td>Covered</td>\n",
              "      <td>Not Covered</td>\n",
              "      <td>Not Covered</td>\n",
              "      <td>Covered</td>\n",
              "    </tr>\n",
              "  </tbody>\n",
              "</table>\n",
              "</div>"
            ],
            "text/plain": [
              "   cluster  ...     Covid_19\n",
              "0        2  ...      Covered\n",
              "1        1  ...  Not Covered\n",
              "2        2  ...  Not Covered\n",
              "3        1  ...  Not Covered\n",
              "4        1  ...      Covered\n",
              "\n",
              "[5 rows x 22 columns]"
            ]
          },
          "metadata": {
            "tags": []
          },
          "execution_count": 68
        }
      ]
    },
    {
      "cell_type": "code",
      "metadata": {
        "id": "0np5tEL1lIBe",
        "colab": {
          "base_uri": "https://localhost:8080/",
          "height": 17
        },
        "outputId": "fb89603a-5f46-46c3-9a04-5cb1a40ac4c5"
      },
      "source": [
        "from google.colab import files\n",
        "Group_HI_cluster.to_csv('K_Means_GHI.csv')\n",
        "files.download('K_Means_GHI.csv') "
      ],
      "execution_count": null,
      "outputs": [
        {
          "output_type": "display_data",
          "data": {
            "application/javascript": [
              "\n",
              "    async function download(id, filename, size) {\n",
              "      if (!google.colab.kernel.accessAllowed) {\n",
              "        return;\n",
              "      }\n",
              "      const div = document.createElement('div');\n",
              "      const label = document.createElement('label');\n",
              "      label.textContent = `Downloading \"${filename}\": `;\n",
              "      div.appendChild(label);\n",
              "      const progress = document.createElement('progress');\n",
              "      progress.max = size;\n",
              "      div.appendChild(progress);\n",
              "      document.body.appendChild(div);\n",
              "\n",
              "      const buffers = [];\n",
              "      let downloaded = 0;\n",
              "\n",
              "      const channel = await google.colab.kernel.comms.open(id);\n",
              "      // Send a message to notify the kernel that we're ready.\n",
              "      channel.send({})\n",
              "\n",
              "      for await (const message of channel.messages) {\n",
              "        // Send a message to notify the kernel that we're ready.\n",
              "        channel.send({})\n",
              "        if (message.buffers) {\n",
              "          for (const buffer of message.buffers) {\n",
              "            buffers.push(buffer);\n",
              "            downloaded += buffer.byteLength;\n",
              "            progress.value = downloaded;\n",
              "          }\n",
              "        }\n",
              "      }\n",
              "      const blob = new Blob(buffers, {type: 'application/binary'});\n",
              "      const a = document.createElement('a');\n",
              "      a.href = window.URL.createObjectURL(blob);\n",
              "      a.download = filename;\n",
              "      div.appendChild(a);\n",
              "      a.click();\n",
              "      div.remove();\n",
              "    }\n",
              "  "
            ],
            "text/plain": [
              "<IPython.core.display.Javascript object>"
            ]
          },
          "metadata": {
            "tags": []
          }
        },
        {
          "output_type": "display_data",
          "data": {
            "application/javascript": [
              "download(\"download_4a4a81e4-c6ab-4569-800a-a030dd5c77c1\", \"K_Means_GHI.csv\", 227991)"
            ],
            "text/plain": [
              "<IPython.core.display.Javascript object>"
            ]
          },
          "metadata": {
            "tags": []
          }
        }
      ]
    },
    {
      "cell_type": "markdown",
      "metadata": {
        "id": "STYItGS7Dx3F"
      },
      "source": [
        "## **Analysis of clusters**"
      ]
    },
    {
      "cell_type": "markdown",
      "metadata": {
        "id": "n47_E9koD9OV"
      },
      "source": [
        "## **Cluster - 1**"
      ]
    },
    {
      "cell_type": "code",
      "metadata": {
        "colab": {
          "base_uri": "https://localhost:8080/",
          "height": 753
        },
        "id": "TVvhh1c8DxQN",
        "outputId": "4ad8897e-529b-4a27-d123-c06410b54ac7"
      },
      "source": [
        "cluster_1_df = Group_HI_cluster[Group_HI_cluster[\"cluster\"]==0]\n",
        "cluster_1_df"
      ],
      "execution_count": null,
      "outputs": [
        {
          "output_type": "execute_result",
          "data": {
            "text/html": [
              "<div>\n",
              "<style scoped>\n",
              "    .dataframe tbody tr th:only-of-type {\n",
              "        vertical-align: middle;\n",
              "    }\n",
              "\n",
              "    .dataframe tbody tr th {\n",
              "        vertical-align: top;\n",
              "    }\n",
              "\n",
              "    .dataframe thead th {\n",
              "        text-align: right;\n",
              "    }\n",
              "</style>\n",
              "<table border=\"1\" class=\"dataframe\">\n",
              "  <thead>\n",
              "    <tr style=\"text-align: right;\">\n",
              "      <th></th>\n",
              "      <th>cluster</th>\n",
              "      <th>Provider_product</th>\n",
              "      <th>Insurance_Provider_Name</th>\n",
              "      <th>Name_of_the_Product</th>\n",
              "      <th>Group_Size</th>\n",
              "      <th>Sum_Insured</th>\n",
              "      <th>Premium_per_year</th>\n",
              "      <th>Age_Group</th>\n",
              "      <th>Policy_Term</th>\n",
              "      <th>Ambulance_Charges</th>\n",
              "      <th>Domiciliary_Hospitalization_Expenses</th>\n",
              "      <th>Pre_Existing_Disease_Day_1</th>\n",
              "      <th>Maternity_Benefits</th>\n",
              "      <th>Pre_hospitalization_Days</th>\n",
              "      <th>Post_hospitalization_Days</th>\n",
              "      <th>Claims_Ratio</th>\n",
              "      <th>Organ_donor_cover</th>\n",
              "      <th>Network_Hospitals</th>\n",
              "      <th>Ayush</th>\n",
              "      <th>Dental</th>\n",
              "      <th>Newborn_Baby_Cover_Day_1</th>\n",
              "      <th>Covid_19</th>\n",
              "    </tr>\n",
              "  </thead>\n",
              "  <tbody>\n",
              "    <tr>\n",
              "      <th>7</th>\n",
              "      <td>0</td>\n",
              "      <td>Care Health Insurance Advanced</td>\n",
              "      <td>Care Health Insurance</td>\n",
              "      <td>Advanced</td>\n",
              "      <td>50</td>\n",
              "      <td>200000</td>\n",
              "      <td>249748</td>\n",
              "      <td>18 - 65</td>\n",
              "      <td>1</td>\n",
              "      <td>1000</td>\n",
              "      <td>Not Covered</td>\n",
              "      <td>Covered</td>\n",
              "      <td>25000 - 50000</td>\n",
              "      <td>30</td>\n",
              "      <td>60</td>\n",
              "      <td>95.20</td>\n",
              "      <td>Not Covered</td>\n",
              "      <td>15500</td>\n",
              "      <td>Not Covered</td>\n",
              "      <td>Not Covered</td>\n",
              "      <td>Covered</td>\n",
              "      <td>Not Covered</td>\n",
              "    </tr>\n",
              "    <tr>\n",
              "      <th>8</th>\n",
              "      <td>0</td>\n",
              "      <td>Cholamandalam MS General Insurance Co. Ltd. Gr...</td>\n",
              "      <td>Cholamandalam MS General Insurance Co. Ltd.</td>\n",
              "      <td>Group Health Insurance</td>\n",
              "      <td>50</td>\n",
              "      <td>200000</td>\n",
              "      <td>283427</td>\n",
              "      <td>18 - 65</td>\n",
              "      <td>1</td>\n",
              "      <td>1000</td>\n",
              "      <td>Covered</td>\n",
              "      <td>Not Covered</td>\n",
              "      <td>Not Covered</td>\n",
              "      <td>30</td>\n",
              "      <td>60</td>\n",
              "      <td>56.25</td>\n",
              "      <td>Covered</td>\n",
              "      <td>7240</td>\n",
              "      <td>Covered</td>\n",
              "      <td>Not Covered</td>\n",
              "      <td>Not Covered</td>\n",
              "      <td>Covered</td>\n",
              "    </tr>\n",
              "    <tr>\n",
              "      <th>17</th>\n",
              "      <td>0</td>\n",
              "      <td>Kotak Mahindra group health care KOTAK GROUP H...</td>\n",
              "      <td>Kotak Mahindra group health care</td>\n",
              "      <td>KOTAK GROUP HEALTH CARE – MICRO INSURANCE - PO...</td>\n",
              "      <td>50</td>\n",
              "      <td>200000</td>\n",
              "      <td>273925</td>\n",
              "      <td>18 - 65</td>\n",
              "      <td>1</td>\n",
              "      <td>1000</td>\n",
              "      <td>Covered</td>\n",
              "      <td>Covered</td>\n",
              "      <td>Not Covered</td>\n",
              "      <td>30</td>\n",
              "      <td>60</td>\n",
              "      <td>75.45</td>\n",
              "      <td>Covered</td>\n",
              "      <td>4000</td>\n",
              "      <td>Covered</td>\n",
              "      <td>Covered</td>\n",
              "      <td>Not Covered</td>\n",
              "      <td>Not Covered</td>\n",
              "    </tr>\n",
              "    <tr>\n",
              "      <th>18</th>\n",
              "      <td>0</td>\n",
              "      <td>Kotak Mahindra group health care Comprehensive...</td>\n",
              "      <td>Kotak Mahindra group health care</td>\n",
              "      <td>Comprehensive premium</td>\n",
              "      <td>50</td>\n",
              "      <td>200000</td>\n",
              "      <td>336541</td>\n",
              "      <td>18 - 65</td>\n",
              "      <td>1</td>\n",
              "      <td>1500</td>\n",
              "      <td>Not Covered</td>\n",
              "      <td>Covered</td>\n",
              "      <td>Not Covered</td>\n",
              "      <td>30</td>\n",
              "      <td>60</td>\n",
              "      <td>75.45</td>\n",
              "      <td>Covered</td>\n",
              "      <td>4000</td>\n",
              "      <td>Covered</td>\n",
              "      <td>Not Covered</td>\n",
              "      <td>Not Covered</td>\n",
              "      <td>Not Covered</td>\n",
              "    </tr>\n",
              "    <tr>\n",
              "      <th>25</th>\n",
              "      <td>0</td>\n",
              "      <td>Navi Health Insurance Group Health Insurance</td>\n",
              "      <td>Navi Health Insurance</td>\n",
              "      <td>Group Health Insurance</td>\n",
              "      <td>50</td>\n",
              "      <td>200000</td>\n",
              "      <td>258774</td>\n",
              "      <td>18 - 65</td>\n",
              "      <td>1</td>\n",
              "      <td>1500</td>\n",
              "      <td>Covered</td>\n",
              "      <td>Not Covered</td>\n",
              "      <td>Not Covered</td>\n",
              "      <td>30</td>\n",
              "      <td>60</td>\n",
              "      <td>94.40</td>\n",
              "      <td>Not Covered</td>\n",
              "      <td>4000</td>\n",
              "      <td>Covered</td>\n",
              "      <td>Not Covered</td>\n",
              "      <td>Not Covered</td>\n",
              "      <td>Covered</td>\n",
              "    </tr>\n",
              "    <tr>\n",
              "      <th>33</th>\n",
              "      <td>0</td>\n",
              "      <td>State Bank Of India Advanced</td>\n",
              "      <td>State Bank Of India</td>\n",
              "      <td>Advanced</td>\n",
              "      <td>50</td>\n",
              "      <td>200000</td>\n",
              "      <td>293840</td>\n",
              "      <td>18 - 65</td>\n",
              "      <td>1</td>\n",
              "      <td>1000</td>\n",
              "      <td>Not Covered</td>\n",
              "      <td>Covered</td>\n",
              "      <td>25000 - 50000</td>\n",
              "      <td>30</td>\n",
              "      <td>60</td>\n",
              "      <td>96.00</td>\n",
              "      <td>Not Covered</td>\n",
              "      <td>6000</td>\n",
              "      <td>Not Covered</td>\n",
              "      <td>Not Covered</td>\n",
              "      <td>Covered</td>\n",
              "      <td>Not Covered</td>\n",
              "    </tr>\n",
              "    <tr>\n",
              "      <th>35</th>\n",
              "      <td>0</td>\n",
              "      <td>The Oriental Insurance Co. Ltd. Mediclaim Insu...</td>\n",
              "      <td>The Oriental Insurance Co. Ltd.</td>\n",
              "      <td>Mediclaim Insurance Policy (Group)</td>\n",
              "      <td>50</td>\n",
              "      <td>200000</td>\n",
              "      <td>276488</td>\n",
              "      <td>18 - 65</td>\n",
              "      <td>1</td>\n",
              "      <td>1000</td>\n",
              "      <td>Not Covered</td>\n",
              "      <td>Not Covered</td>\n",
              "      <td>Not Covered</td>\n",
              "      <td>30</td>\n",
              "      <td>60</td>\n",
              "      <td>93.96</td>\n",
              "      <td>Covered</td>\n",
              "      <td>5000</td>\n",
              "      <td>Not Covered</td>\n",
              "      <td>Not Covered</td>\n",
              "      <td>Not Covered</td>\n",
              "      <td>Not Covered</td>\n",
              "    </tr>\n",
              "    <tr>\n",
              "      <th>36</th>\n",
              "      <td>0</td>\n",
              "      <td>The Oriental Insurance Co. Ltd. Individual Med...</td>\n",
              "      <td>The Oriental Insurance Co. Ltd.</td>\n",
              "      <td>Individual Mediclaim Policy</td>\n",
              "      <td>50</td>\n",
              "      <td>200000</td>\n",
              "      <td>333282</td>\n",
              "      <td>18 - 65</td>\n",
              "      <td>1</td>\n",
              "      <td>1000</td>\n",
              "      <td>Covered</td>\n",
              "      <td>Covered</td>\n",
              "      <td>Not Covered</td>\n",
              "      <td>30</td>\n",
              "      <td>60</td>\n",
              "      <td>93.96</td>\n",
              "      <td>Covered</td>\n",
              "      <td>5000</td>\n",
              "      <td>Covered</td>\n",
              "      <td>Not Covered</td>\n",
              "      <td>Not Covered</td>\n",
              "      <td>Covered</td>\n",
              "    </tr>\n",
              "    <tr>\n",
              "      <th>37</th>\n",
              "      <td>0</td>\n",
              "      <td>United India Insurance Company Limited Group H...</td>\n",
              "      <td>United India Insurance Company Limited</td>\n",
              "      <td>Group Health Insurance</td>\n",
              "      <td>50</td>\n",
              "      <td>200000</td>\n",
              "      <td>265896</td>\n",
              "      <td>18 - 65</td>\n",
              "      <td>1</td>\n",
              "      <td>1000</td>\n",
              "      <td>Not Covered</td>\n",
              "      <td>Not Covered</td>\n",
              "      <td>Not Covered</td>\n",
              "      <td>30</td>\n",
              "      <td>60</td>\n",
              "      <td>78.03</td>\n",
              "      <td>Not Covered</td>\n",
              "      <td>7000</td>\n",
              "      <td>Not Covered</td>\n",
              "      <td>Covered</td>\n",
              "      <td>Not Covered</td>\n",
              "      <td>Not Covered</td>\n",
              "    </tr>\n",
              "    <tr>\n",
              "      <th>38</th>\n",
              "      <td>0</td>\n",
              "      <td>Universal Sompo General Insurance Co. Ltd. Gro...</td>\n",
              "      <td>Universal Sompo General Insurance Co. Ltd.</td>\n",
              "      <td>Group Health Insurance Policy</td>\n",
              "      <td>50</td>\n",
              "      <td>200000</td>\n",
              "      <td>329903</td>\n",
              "      <td>18 - 65</td>\n",
              "      <td>1</td>\n",
              "      <td>1000</td>\n",
              "      <td>Covered</td>\n",
              "      <td>Covered</td>\n",
              "      <td>Not Covered</td>\n",
              "      <td>30</td>\n",
              "      <td>60</td>\n",
              "      <td>76.68</td>\n",
              "      <td>Covered</td>\n",
              "      <td>4000</td>\n",
              "      <td>Covered</td>\n",
              "      <td>Covered</td>\n",
              "      <td>Covered</td>\n",
              "      <td>Covered</td>\n",
              "    </tr>\n",
              "  </tbody>\n",
              "</table>\n",
              "</div>"
            ],
            "text/plain": [
              "    cluster  ...     Covid_19\n",
              "7         0  ...  Not Covered\n",
              "8         0  ...      Covered\n",
              "17        0  ...  Not Covered\n",
              "18        0  ...  Not Covered\n",
              "25        0  ...      Covered\n",
              "33        0  ...  Not Covered\n",
              "35        0  ...  Not Covered\n",
              "36        0  ...      Covered\n",
              "37        0  ...  Not Covered\n",
              "38        0  ...      Covered\n",
              "\n",
              "[10 rows x 22 columns]"
            ]
          },
          "metadata": {
            "tags": []
          },
          "execution_count": 69
        }
      ]
    },
    {
      "cell_type": "markdown",
      "metadata": {
        "id": "cxRs10iQFmBM"
      },
      "source": [
        "Cluster - 1 has 362 rows and 22 columns"
      ]
    },
    {
      "cell_type": "markdown",
      "metadata": {
        "id": "F06HTvlLEOlV"
      },
      "source": [
        "## **Cluster - 2**"
      ]
    },
    {
      "cell_type": "code",
      "metadata": {
        "colab": {
          "base_uri": "https://localhost:8080/",
          "height": 1000
        },
        "id": "pnjnzkftEWwD",
        "outputId": "a9dd878a-5861-4260-ae5b-8bf4c73f5eae"
      },
      "source": [
        "cluster_2_df = Group_HI_cluster[Group_HI_cluster[\"cluster\"]==1]\n",
        "cluster_2_df"
      ],
      "execution_count": null,
      "outputs": [
        {
          "output_type": "execute_result",
          "data": {
            "text/html": [
              "<div>\n",
              "<style scoped>\n",
              "    .dataframe tbody tr th:only-of-type {\n",
              "        vertical-align: middle;\n",
              "    }\n",
              "\n",
              "    .dataframe tbody tr th {\n",
              "        vertical-align: top;\n",
              "    }\n",
              "\n",
              "    .dataframe thead th {\n",
              "        text-align: right;\n",
              "    }\n",
              "</style>\n",
              "<table border=\"1\" class=\"dataframe\">\n",
              "  <thead>\n",
              "    <tr style=\"text-align: right;\">\n",
              "      <th></th>\n",
              "      <th>cluster</th>\n",
              "      <th>Provider_product</th>\n",
              "      <th>Insurance_Provider_Name</th>\n",
              "      <th>Name_of_the_Product</th>\n",
              "      <th>Group_Size</th>\n",
              "      <th>Sum_Insured</th>\n",
              "      <th>Premium_per_year</th>\n",
              "      <th>Age_Group</th>\n",
              "      <th>Policy_Term</th>\n",
              "      <th>Ambulance_Charges</th>\n",
              "      <th>Domiciliary_Hospitalization_Expenses</th>\n",
              "      <th>Pre_Existing_Disease_Day_1</th>\n",
              "      <th>Maternity_Benefits</th>\n",
              "      <th>Pre_hospitalization_Days</th>\n",
              "      <th>Post_hospitalization_Days</th>\n",
              "      <th>Claims_Ratio</th>\n",
              "      <th>Organ_donor_cover</th>\n",
              "      <th>Network_Hospitals</th>\n",
              "      <th>Ayush</th>\n",
              "      <th>Dental</th>\n",
              "      <th>Newborn_Baby_Cover_Day_1</th>\n",
              "      <th>Covid_19</th>\n",
              "    </tr>\n",
              "  </thead>\n",
              "  <tbody>\n",
              "    <tr>\n",
              "      <th>1</th>\n",
              "      <td>1</td>\n",
              "      <td>Aditya Birla Health Insurance Co Group Arogya...</td>\n",
              "      <td>Aditya Birla Health Insurance Co</td>\n",
              "      <td>Group Arogya Sanjeevani Policy</td>\n",
              "      <td>50</td>\n",
              "      <td>200000</td>\n",
              "      <td>219196</td>\n",
              "      <td>18 - 65</td>\n",
              "      <td>1</td>\n",
              "      <td>1000</td>\n",
              "      <td>Covered</td>\n",
              "      <td>Not Covered</td>\n",
              "      <td>Not Covered</td>\n",
              "      <td>30</td>\n",
              "      <td>60</td>\n",
              "      <td>49.08</td>\n",
              "      <td>Covered</td>\n",
              "      <td>8200</td>\n",
              "      <td>Covered</td>\n",
              "      <td>Not Covered</td>\n",
              "      <td>Covered</td>\n",
              "      <td>Not Covered</td>\n",
              "    </tr>\n",
              "    <tr>\n",
              "      <th>3</th>\n",
              "      <td>1</td>\n",
              "      <td>Bajaj Allianz General Insurance Company Limite...</td>\n",
              "      <td>Bajaj Allianz General Insurance Company Limited</td>\n",
              "      <td>Health Guard (Group)</td>\n",
              "      <td>50</td>\n",
              "      <td>200000</td>\n",
              "      <td>152673</td>\n",
              "      <td>18 - 65</td>\n",
              "      <td>1</td>\n",
              "      <td>1200</td>\n",
              "      <td>Not Covered</td>\n",
              "      <td>Not Covered</td>\n",
              "      <td>0 - 25000</td>\n",
              "      <td>60</td>\n",
              "      <td>90</td>\n",
              "      <td>99.80</td>\n",
              "      <td>Not Covered</td>\n",
              "      <td>10000</td>\n",
              "      <td>Not Covered</td>\n",
              "      <td>Not Covered</td>\n",
              "      <td>Not Covered</td>\n",
              "      <td>Not Covered</td>\n",
              "    </tr>\n",
              "    <tr>\n",
              "      <th>4</th>\n",
              "      <td>1</td>\n",
              "      <td>Bharati AXA Prime Health Insurance</td>\n",
              "      <td>Bharati AXA</td>\n",
              "      <td>Prime Health Insurance</td>\n",
              "      <td>50</td>\n",
              "      <td>200000</td>\n",
              "      <td>222948</td>\n",
              "      <td>18 - 65</td>\n",
              "      <td>1</td>\n",
              "      <td>3500</td>\n",
              "      <td>Covered</td>\n",
              "      <td>Not Covered</td>\n",
              "      <td>Not Covered</td>\n",
              "      <td>30</td>\n",
              "      <td>60</td>\n",
              "      <td>77.50</td>\n",
              "      <td>Covered</td>\n",
              "      <td>4500</td>\n",
              "      <td>Covered</td>\n",
              "      <td>Not Covered</td>\n",
              "      <td>Not Covered</td>\n",
              "      <td>Covered</td>\n",
              "    </tr>\n",
              "    <tr>\n",
              "      <th>5</th>\n",
              "      <td>1</td>\n",
              "      <td>Care Health Insurance Basic</td>\n",
              "      <td>Care Health Insurance</td>\n",
              "      <td>Basic</td>\n",
              "      <td>50</td>\n",
              "      <td>200000</td>\n",
              "      <td>99469</td>\n",
              "      <td>18 - 65</td>\n",
              "      <td>1</td>\n",
              "      <td>1000</td>\n",
              "      <td>Not Covered</td>\n",
              "      <td>Not Covered</td>\n",
              "      <td>Not Covered</td>\n",
              "      <td>30</td>\n",
              "      <td>60</td>\n",
              "      <td>95.20</td>\n",
              "      <td>Not Covered</td>\n",
              "      <td>15500</td>\n",
              "      <td>Not Covered</td>\n",
              "      <td>Not Covered</td>\n",
              "      <td>Covered</td>\n",
              "      <td>Not Covered</td>\n",
              "    </tr>\n",
              "    <tr>\n",
              "      <th>6</th>\n",
              "      <td>1</td>\n",
              "      <td>Care Health Insurance Standard</td>\n",
              "      <td>Care Health Insurance</td>\n",
              "      <td>Standard</td>\n",
              "      <td>50</td>\n",
              "      <td>200000</td>\n",
              "      <td>148666</td>\n",
              "      <td>18 - 65</td>\n",
              "      <td>1</td>\n",
              "      <td>1000</td>\n",
              "      <td>Not Covered</td>\n",
              "      <td>Covered</td>\n",
              "      <td>Not Covered</td>\n",
              "      <td>30</td>\n",
              "      <td>60</td>\n",
              "      <td>95.20</td>\n",
              "      <td>Not Covered</td>\n",
              "      <td>15500</td>\n",
              "      <td>Not Covered</td>\n",
              "      <td>Not Covered</td>\n",
              "      <td>Covered</td>\n",
              "      <td>Not Covered</td>\n",
              "    </tr>\n",
              "    <tr>\n",
              "      <th>9</th>\n",
              "      <td>1</td>\n",
              "      <td>CitiBank &amp; The New India Assurance Co. Ltd Goo...</td>\n",
              "      <td>CitiBank &amp; The New India Assurance Co. Ltd</td>\n",
              "      <td>Good Health Insurance</td>\n",
              "      <td>50</td>\n",
              "      <td>200000</td>\n",
              "      <td>138287</td>\n",
              "      <td>18 - 65</td>\n",
              "      <td>1</td>\n",
              "      <td>1500</td>\n",
              "      <td>Not Covered</td>\n",
              "      <td>Not Covered</td>\n",
              "      <td>Not Covered</td>\n",
              "      <td>30</td>\n",
              "      <td>60</td>\n",
              "      <td>91.99</td>\n",
              "      <td>Not Covered</td>\n",
              "      <td>4000</td>\n",
              "      <td>Covered</td>\n",
              "      <td>Not Covered</td>\n",
              "      <td>Not Covered</td>\n",
              "      <td>Not Covered</td>\n",
              "    </tr>\n",
              "    <tr>\n",
              "      <th>10</th>\n",
              "      <td>1</td>\n",
              "      <td>Edelweiss General Insurance Co.Ltd Edelweiss G...</td>\n",
              "      <td>Edelweiss General Insurance Co.Ltd</td>\n",
              "      <td>Edelweiss Group Total Protect Policy</td>\n",
              "      <td>50</td>\n",
              "      <td>200000</td>\n",
              "      <td>216648</td>\n",
              "      <td>18 - 65</td>\n",
              "      <td>1</td>\n",
              "      <td>1500</td>\n",
              "      <td>Covered</td>\n",
              "      <td>Covered</td>\n",
              "      <td>Not Covered</td>\n",
              "      <td>30</td>\n",
              "      <td>60</td>\n",
              "      <td>85.57</td>\n",
              "      <td>Covered</td>\n",
              "      <td>2578</td>\n",
              "      <td>Covered</td>\n",
              "      <td>Covered</td>\n",
              "      <td>Covered</td>\n",
              "      <td>Covered</td>\n",
              "    </tr>\n",
              "    <tr>\n",
              "      <th>12</th>\n",
              "      <td>1</td>\n",
              "      <td>Godigit Group Health insurance</td>\n",
              "      <td>Godigit</td>\n",
              "      <td>Group Health insurance</td>\n",
              "      <td>50</td>\n",
              "      <td>200000</td>\n",
              "      <td>146333</td>\n",
              "      <td>18 - 65</td>\n",
              "      <td>1</td>\n",
              "      <td>1000</td>\n",
              "      <td>Covered</td>\n",
              "      <td>Covered</td>\n",
              "      <td>0 - 25000</td>\n",
              "      <td>30</td>\n",
              "      <td>60</td>\n",
              "      <td>93.37</td>\n",
              "      <td>Covered</td>\n",
              "      <td>5900</td>\n",
              "      <td>Not Covered</td>\n",
              "      <td>Not Covered</td>\n",
              "      <td>Covered</td>\n",
              "      <td>Not Covered</td>\n",
              "    </tr>\n",
              "    <tr>\n",
              "      <th>13</th>\n",
              "      <td>1</td>\n",
              "      <td>HDFC ERGO General Insurance Group Mediclaim In...</td>\n",
              "      <td>HDFC ERGO General Insurance</td>\n",
              "      <td>Group Mediclaim Insurance</td>\n",
              "      <td>50</td>\n",
              "      <td>200000</td>\n",
              "      <td>134151</td>\n",
              "      <td>18 - 65</td>\n",
              "      <td>1</td>\n",
              "      <td>1000</td>\n",
              "      <td>Not Covered</td>\n",
              "      <td>Not Covered</td>\n",
              "      <td>0 - 25000</td>\n",
              "      <td>30</td>\n",
              "      <td>60</td>\n",
              "      <td>99.80</td>\n",
              "      <td>Not Covered</td>\n",
              "      <td>10000</td>\n",
              "      <td>Covered</td>\n",
              "      <td>Not Covered</td>\n",
              "      <td>Not Covered</td>\n",
              "      <td>Not Covered</td>\n",
              "    </tr>\n",
              "    <tr>\n",
              "      <th>14</th>\n",
              "      <td>1</td>\n",
              "      <td>ICICI LOMBARD ICICI LOMBARD (floater)</td>\n",
              "      <td>ICICI LOMBARD</td>\n",
              "      <td>ICICI LOMBARD (floater)</td>\n",
              "      <td>50</td>\n",
              "      <td>200000</td>\n",
              "      <td>177933</td>\n",
              "      <td>18 - 65</td>\n",
              "      <td>1</td>\n",
              "      <td>1000</td>\n",
              "      <td>Covered</td>\n",
              "      <td>Covered</td>\n",
              "      <td>25000 - 50000</td>\n",
              "      <td>30</td>\n",
              "      <td>60</td>\n",
              "      <td>78.32</td>\n",
              "      <td>Covered</td>\n",
              "      <td>6500</td>\n",
              "      <td>Not Covered</td>\n",
              "      <td>Not Covered</td>\n",
              "      <td>Covered</td>\n",
              "      <td>Not Covered</td>\n",
              "    </tr>\n",
              "    <tr>\n",
              "      <th>15</th>\n",
              "      <td>1</td>\n",
              "      <td>IFFCO TOKIO Group Medishield Insurance Policy</td>\n",
              "      <td>IFFCO TOKIO</td>\n",
              "      <td>Group Medishield Insurance Policy</td>\n",
              "      <td>50</td>\n",
              "      <td>200000</td>\n",
              "      <td>182427</td>\n",
              "      <td>18 - 65</td>\n",
              "      <td>1</td>\n",
              "      <td>2500</td>\n",
              "      <td>Covered</td>\n",
              "      <td>Covered</td>\n",
              "      <td>Not Covered</td>\n",
              "      <td>30</td>\n",
              "      <td>60</td>\n",
              "      <td>96.33</td>\n",
              "      <td>Covered</td>\n",
              "      <td>6400</td>\n",
              "      <td>Not Covered</td>\n",
              "      <td>Covered</td>\n",
              "      <td>Covered</td>\n",
              "      <td>Not Covered</td>\n",
              "    </tr>\n",
              "    <tr>\n",
              "      <th>16</th>\n",
              "      <td>1</td>\n",
              "      <td>Indian Medical Insurance policy Group Health I...</td>\n",
              "      <td>Indian Medical Insurance policy</td>\n",
              "      <td>Group Health Insurance</td>\n",
              "      <td>50</td>\n",
              "      <td>200000</td>\n",
              "      <td>146131</td>\n",
              "      <td>18 - 65</td>\n",
              "      <td>1</td>\n",
              "      <td>2000</td>\n",
              "      <td>Not Covered</td>\n",
              "      <td>Not Covered</td>\n",
              "      <td>25000 - 50000</td>\n",
              "      <td>30</td>\n",
              "      <td>60</td>\n",
              "      <td>104.90</td>\n",
              "      <td>Not Covered</td>\n",
              "      <td>6000</td>\n",
              "      <td>Covered</td>\n",
              "      <td>Not Covered</td>\n",
              "      <td>Not Covered</td>\n",
              "      <td>Not Covered</td>\n",
              "    </tr>\n",
              "    <tr>\n",
              "      <th>19</th>\n",
              "      <td>1</td>\n",
              "      <td>Liberty General Insurance Ltd Liberty Complete...</td>\n",
              "      <td>Liberty General Insurance Ltd</td>\n",
              "      <td>Liberty Complete Protect Group</td>\n",
              "      <td>50</td>\n",
              "      <td>200000</td>\n",
              "      <td>137338</td>\n",
              "      <td>18 - 65</td>\n",
              "      <td>1</td>\n",
              "      <td>1000</td>\n",
              "      <td>Not Covered</td>\n",
              "      <td>Covered</td>\n",
              "      <td>Not Covered</td>\n",
              "      <td>30</td>\n",
              "      <td>60</td>\n",
              "      <td>74.58</td>\n",
              "      <td>Not Covered</td>\n",
              "      <td>3000</td>\n",
              "      <td>Covered</td>\n",
              "      <td>Not Covered</td>\n",
              "      <td>Not Covered</td>\n",
              "      <td>Not Covered</td>\n",
              "    </tr>\n",
              "    <tr>\n",
              "      <th>24</th>\n",
              "      <td>1</td>\n",
              "      <td>National Insurance Co. Ltd National Group Medi...</td>\n",
              "      <td>National Insurance Co. Ltd</td>\n",
              "      <td>National Group Mediclaim Policy</td>\n",
              "      <td>50</td>\n",
              "      <td>200000</td>\n",
              "      <td>181248</td>\n",
              "      <td>18 - 65</td>\n",
              "      <td>1</td>\n",
              "      <td>1000</td>\n",
              "      <td>Not Covered</td>\n",
              "      <td>Not Covered</td>\n",
              "      <td>25000 - 50000</td>\n",
              "      <td>30</td>\n",
              "      <td>60</td>\n",
              "      <td>103.30</td>\n",
              "      <td>Not Covered</td>\n",
              "      <td>6000</td>\n",
              "      <td>Covered</td>\n",
              "      <td>Not Covered</td>\n",
              "      <td>Not Covered</td>\n",
              "      <td>Covered</td>\n",
              "    </tr>\n",
              "    <tr>\n",
              "      <th>26</th>\n",
              "      <td>1</td>\n",
              "      <td>Reliance General Insurance Co.Ltd Group Medicl...</td>\n",
              "      <td>Reliance General Insurance Co.Ltd</td>\n",
              "      <td>Group Mediclaim</td>\n",
              "      <td>50</td>\n",
              "      <td>200000</td>\n",
              "      <td>154840</td>\n",
              "      <td>18 - 65</td>\n",
              "      <td>1</td>\n",
              "      <td>1000</td>\n",
              "      <td>Not Covered</td>\n",
              "      <td>Covered</td>\n",
              "      <td>Not Covered</td>\n",
              "      <td>30</td>\n",
              "      <td>60</td>\n",
              "      <td>89.37</td>\n",
              "      <td>Covered</td>\n",
              "      <td>7300</td>\n",
              "      <td>Covered</td>\n",
              "      <td>Not Covered</td>\n",
              "      <td>Not Covered</td>\n",
              "      <td>Covered</td>\n",
              "    </tr>\n",
              "    <tr>\n",
              "      <th>27</th>\n",
              "      <td>1</td>\n",
              "      <td>Royal Sundaram General Insurance Co. Ltd. Grou...</td>\n",
              "      <td>Royal Sundaram General Insurance Co. Ltd.</td>\n",
              "      <td>Group Health Insurance</td>\n",
              "      <td>50</td>\n",
              "      <td>200000</td>\n",
              "      <td>161622</td>\n",
              "      <td>18 - 65</td>\n",
              "      <td>1</td>\n",
              "      <td>1000</td>\n",
              "      <td>Not Covered</td>\n",
              "      <td>Not Covered</td>\n",
              "      <td>Not Covered</td>\n",
              "      <td>30</td>\n",
              "      <td>60</td>\n",
              "      <td>63.55</td>\n",
              "      <td>Not Covered</td>\n",
              "      <td>5000</td>\n",
              "      <td>Not Covered</td>\n",
              "      <td>Not Covered</td>\n",
              "      <td>Not Covered</td>\n",
              "      <td>Not Covered</td>\n",
              "    </tr>\n",
              "    <tr>\n",
              "      <th>28</th>\n",
              "      <td>1</td>\n",
              "      <td>Star Health and Allied Insurance Co. Ltd. Grou...</td>\n",
              "      <td>Star Health and Allied Insurance Co. Ltd.</td>\n",
              "      <td>Group Arogya Sanjeevani Policy</td>\n",
              "      <td>50</td>\n",
              "      <td>200000</td>\n",
              "      <td>182664</td>\n",
              "      <td>18 - 65</td>\n",
              "      <td>1</td>\n",
              "      <td>2000</td>\n",
              "      <td>Covered</td>\n",
              "      <td>Not Covered</td>\n",
              "      <td>0 - 25000</td>\n",
              "      <td>30</td>\n",
              "      <td>60</td>\n",
              "      <td>87.00</td>\n",
              "      <td>Not Covered</td>\n",
              "      <td>10200</td>\n",
              "      <td>Covered</td>\n",
              "      <td>Covered</td>\n",
              "      <td>Not Covered</td>\n",
              "      <td>Not Covered</td>\n",
              "    </tr>\n",
              "    <tr>\n",
              "      <th>29</th>\n",
              "      <td>1</td>\n",
              "      <td>Star Health and Allied Insurance Co. Ltd. Clas...</td>\n",
              "      <td>Star Health and Allied Insurance Co. Ltd.</td>\n",
              "      <td>Classic Group Health Insurance</td>\n",
              "      <td>50</td>\n",
              "      <td>200000</td>\n",
              "      <td>188328</td>\n",
              "      <td>18 - 65</td>\n",
              "      <td>1</td>\n",
              "      <td>2000</td>\n",
              "      <td>Covered</td>\n",
              "      <td>Not Covered</td>\n",
              "      <td>0 - 25000</td>\n",
              "      <td>30</td>\n",
              "      <td>60</td>\n",
              "      <td>87.00</td>\n",
              "      <td>Covered</td>\n",
              "      <td>10200</td>\n",
              "      <td>Covered</td>\n",
              "      <td>Covered</td>\n",
              "      <td>Not Covered</td>\n",
              "      <td>Not Covered</td>\n",
              "    </tr>\n",
              "    <tr>\n",
              "      <th>30</th>\n",
              "      <td>1</td>\n",
              "      <td>Star Health and Allied Insurance Co. Ltd. Star...</td>\n",
              "      <td>Star Health and Allied Insurance Co. Ltd.</td>\n",
              "      <td>Star Group Health Insurance</td>\n",
              "      <td>50</td>\n",
              "      <td>200000</td>\n",
              "      <td>199372</td>\n",
              "      <td>18 - 65</td>\n",
              "      <td>1</td>\n",
              "      <td>2000</td>\n",
              "      <td>Covered</td>\n",
              "      <td>Not Covered</td>\n",
              "      <td>0 - 25000</td>\n",
              "      <td>30</td>\n",
              "      <td>60</td>\n",
              "      <td>87.00</td>\n",
              "      <td>Covered</td>\n",
              "      <td>10200</td>\n",
              "      <td>Covered</td>\n",
              "      <td>Covered</td>\n",
              "      <td>Covered</td>\n",
              "      <td>Not Covered</td>\n",
              "    </tr>\n",
              "    <tr>\n",
              "      <th>31</th>\n",
              "      <td>1</td>\n",
              "      <td>State Bank Of India Basic</td>\n",
              "      <td>State Bank Of India</td>\n",
              "      <td>Basic</td>\n",
              "      <td>50</td>\n",
              "      <td>200000</td>\n",
              "      <td>128260</td>\n",
              "      <td>18 - 65</td>\n",
              "      <td>1</td>\n",
              "      <td>1000</td>\n",
              "      <td>Not Covered</td>\n",
              "      <td>Not Covered</td>\n",
              "      <td>Not Covered</td>\n",
              "      <td>30</td>\n",
              "      <td>60</td>\n",
              "      <td>96.00</td>\n",
              "      <td>Not Covered</td>\n",
              "      <td>6000</td>\n",
              "      <td>Not Covered</td>\n",
              "      <td>Not Covered</td>\n",
              "      <td>Covered</td>\n",
              "      <td>Not Covered</td>\n",
              "    </tr>\n",
              "    <tr>\n",
              "      <th>32</th>\n",
              "      <td>1</td>\n",
              "      <td>State Bank Of India Standard</td>\n",
              "      <td>State Bank Of India</td>\n",
              "      <td>Standard</td>\n",
              "      <td>50</td>\n",
              "      <td>200000</td>\n",
              "      <td>205846</td>\n",
              "      <td>18 - 65</td>\n",
              "      <td>1</td>\n",
              "      <td>1000</td>\n",
              "      <td>Not Covered</td>\n",
              "      <td>Covered</td>\n",
              "      <td>Not Covered</td>\n",
              "      <td>30</td>\n",
              "      <td>60</td>\n",
              "      <td>96.00</td>\n",
              "      <td>Not Covered</td>\n",
              "      <td>6000</td>\n",
              "      <td>Not Covered</td>\n",
              "      <td>Not Covered</td>\n",
              "      <td>Covered</td>\n",
              "      <td>Not Covered</td>\n",
              "    </tr>\n",
              "    <tr>\n",
              "      <th>34</th>\n",
              "      <td>1</td>\n",
              "      <td>The Oriental Insurance Co. Ltd. Group Medical ...</td>\n",
              "      <td>The Oriental Insurance Co. Ltd.</td>\n",
              "      <td>Group Medical Insaurance(Sliver Plan)</td>\n",
              "      <td>50</td>\n",
              "      <td>200000</td>\n",
              "      <td>167753</td>\n",
              "      <td>18 - 65</td>\n",
              "      <td>1</td>\n",
              "      <td>1000</td>\n",
              "      <td>Covered</td>\n",
              "      <td>Not Covered</td>\n",
              "      <td>Not Covered</td>\n",
              "      <td>30</td>\n",
              "      <td>60</td>\n",
              "      <td>93.96</td>\n",
              "      <td>Not Covered</td>\n",
              "      <td>4300</td>\n",
              "      <td>Not Covered</td>\n",
              "      <td>Covered</td>\n",
              "      <td>Covered</td>\n",
              "      <td>Not Covered</td>\n",
              "    </tr>\n",
              "  </tbody>\n",
              "</table>\n",
              "</div>"
            ],
            "text/plain": [
              "    cluster  ...     Covid_19\n",
              "1         1  ...  Not Covered\n",
              "3         1  ...  Not Covered\n",
              "4         1  ...      Covered\n",
              "5         1  ...  Not Covered\n",
              "6         1  ...  Not Covered\n",
              "9         1  ...  Not Covered\n",
              "10        1  ...      Covered\n",
              "12        1  ...  Not Covered\n",
              "13        1  ...  Not Covered\n",
              "14        1  ...  Not Covered\n",
              "15        1  ...  Not Covered\n",
              "16        1  ...  Not Covered\n",
              "19        1  ...  Not Covered\n",
              "24        1  ...      Covered\n",
              "26        1  ...      Covered\n",
              "27        1  ...  Not Covered\n",
              "28        1  ...  Not Covered\n",
              "29        1  ...  Not Covered\n",
              "30        1  ...  Not Covered\n",
              "31        1  ...  Not Covered\n",
              "32        1  ...  Not Covered\n",
              "34        1  ...  Not Covered\n",
              "\n",
              "[22 rows x 22 columns]"
            ]
          },
          "metadata": {
            "tags": []
          },
          "execution_count": 70
        }
      ]
    },
    {
      "cell_type": "markdown",
      "metadata": {
        "id": "CD1ky9qdGLpb"
      },
      "source": [
        "Cluster - 2 has 770 rows and 22 columns"
      ]
    },
    {
      "cell_type": "markdown",
      "metadata": {
        "id": "TDnuhd-5Er-K"
      },
      "source": [
        "## **Cluster - 3**"
      ]
    },
    {
      "cell_type": "code",
      "metadata": {
        "colab": {
          "base_uri": "https://localhost:8080/",
          "height": 558
        },
        "id": "io9nLjG0Eegi",
        "outputId": "8193b41c-82f3-4b8a-8033-e28ab97a28f5"
      },
      "source": [
        "cluster_3_df = Group_HI_cluster[Group_HI_cluster[\"cluster\"]==2]\n",
        "cluster_3_df"
      ],
      "execution_count": null,
      "outputs": [
        {
          "output_type": "execute_result",
          "data": {
            "text/html": [
              "<div>\n",
              "<style scoped>\n",
              "    .dataframe tbody tr th:only-of-type {\n",
              "        vertical-align: middle;\n",
              "    }\n",
              "\n",
              "    .dataframe tbody tr th {\n",
              "        vertical-align: top;\n",
              "    }\n",
              "\n",
              "    .dataframe thead th {\n",
              "        text-align: right;\n",
              "    }\n",
              "</style>\n",
              "<table border=\"1\" class=\"dataframe\">\n",
              "  <thead>\n",
              "    <tr style=\"text-align: right;\">\n",
              "      <th></th>\n",
              "      <th>cluster</th>\n",
              "      <th>Provider_product</th>\n",
              "      <th>Insurance_Provider_Name</th>\n",
              "      <th>Name_of_the_Product</th>\n",
              "      <th>Group_Size</th>\n",
              "      <th>Sum_Insured</th>\n",
              "      <th>Premium_per_year</th>\n",
              "      <th>Age_Group</th>\n",
              "      <th>Policy_Term</th>\n",
              "      <th>Ambulance_Charges</th>\n",
              "      <th>Domiciliary_Hospitalization_Expenses</th>\n",
              "      <th>Pre_Existing_Disease_Day_1</th>\n",
              "      <th>Maternity_Benefits</th>\n",
              "      <th>Pre_hospitalization_Days</th>\n",
              "      <th>Post_hospitalization_Days</th>\n",
              "      <th>Claims_Ratio</th>\n",
              "      <th>Organ_donor_cover</th>\n",
              "      <th>Network_Hospitals</th>\n",
              "      <th>Ayush</th>\n",
              "      <th>Dental</th>\n",
              "      <th>Newborn_Baby_Cover_Day_1</th>\n",
              "      <th>Covid_19</th>\n",
              "    </tr>\n",
              "  </thead>\n",
              "  <tbody>\n",
              "    <tr>\n",
              "      <th>0</th>\n",
              "      <td>2</td>\n",
              "      <td>Aditya Birla Health Insurance Co Group Assure...</td>\n",
              "      <td>Aditya Birla Health Insurance Co</td>\n",
              "      <td>Group Assure COVID-19</td>\n",
              "      <td>50</td>\n",
              "      <td>200000</td>\n",
              "      <td>365582</td>\n",
              "      <td>18 - 65</td>\n",
              "      <td>1</td>\n",
              "      <td>1000</td>\n",
              "      <td>Covered</td>\n",
              "      <td>Not Covered</td>\n",
              "      <td>Not Covered</td>\n",
              "      <td>30</td>\n",
              "      <td>60</td>\n",
              "      <td>49.08</td>\n",
              "      <td>Not Covered</td>\n",
              "      <td>8200</td>\n",
              "      <td>Not Covered</td>\n",
              "      <td>Not Covered</td>\n",
              "      <td>Not Covered</td>\n",
              "      <td>Covered</td>\n",
              "    </tr>\n",
              "    <tr>\n",
              "      <th>2</th>\n",
              "      <td>2</td>\n",
              "      <td>Acko General Insurance Co. Ltd.  Acko Group He...</td>\n",
              "      <td>Acko General Insurance Co. Ltd.</td>\n",
              "      <td>Acko Group Health Insurance Policy</td>\n",
              "      <td>50</td>\n",
              "      <td>200000</td>\n",
              "      <td>396480</td>\n",
              "      <td>18 - 65</td>\n",
              "      <td>1</td>\n",
              "      <td>4000</td>\n",
              "      <td>Covered</td>\n",
              "      <td>Covered</td>\n",
              "      <td>Not Covered</td>\n",
              "      <td>30</td>\n",
              "      <td>60</td>\n",
              "      <td>95.00</td>\n",
              "      <td>Covered</td>\n",
              "      <td>5000</td>\n",
              "      <td>Not Covered</td>\n",
              "      <td>Not Covered</td>\n",
              "      <td>Covered</td>\n",
              "      <td>Not Covered</td>\n",
              "    </tr>\n",
              "    <tr>\n",
              "      <th>11</th>\n",
              "      <td>2</td>\n",
              "      <td>Future Generali Health Insurance GROUP HEALTH ...</td>\n",
              "      <td>Future Generali Health Insurance</td>\n",
              "      <td>GROUP HEALTH INSURANCE (Revised)</td>\n",
              "      <td>50</td>\n",
              "      <td>200000</td>\n",
              "      <td>444935</td>\n",
              "      <td>18 - 65</td>\n",
              "      <td>1</td>\n",
              "      <td>1000</td>\n",
              "      <td>Not Covered</td>\n",
              "      <td>Not Covered</td>\n",
              "      <td>Not Covered</td>\n",
              "      <td>30</td>\n",
              "      <td>60</td>\n",
              "      <td>82.96</td>\n",
              "      <td>Not Covered</td>\n",
              "      <td>5100</td>\n",
              "      <td>Covered</td>\n",
              "      <td>Not Covered</td>\n",
              "      <td>Covered</td>\n",
              "      <td>Not Covered</td>\n",
              "    </tr>\n",
              "    <tr>\n",
              "      <th>20</th>\n",
              "      <td>2</td>\n",
              "      <td>Magma HDI General Insurance Co. Ltd. Support  ...</td>\n",
              "      <td>Magma HDI General Insurance Co. Ltd.</td>\n",
              "      <td>Support  health insurance plan</td>\n",
              "      <td>50</td>\n",
              "      <td>200000</td>\n",
              "      <td>366093</td>\n",
              "      <td>18 - 65</td>\n",
              "      <td>1</td>\n",
              "      <td>2500</td>\n",
              "      <td>Not Covered</td>\n",
              "      <td>Not Covered</td>\n",
              "      <td>Not Covered</td>\n",
              "      <td>30</td>\n",
              "      <td>60</td>\n",
              "      <td>95.00</td>\n",
              "      <td>Covered</td>\n",
              "      <td>4500</td>\n",
              "      <td>Covered</td>\n",
              "      <td>Not Covered</td>\n",
              "      <td>Not Covered</td>\n",
              "      <td>Not Covered</td>\n",
              "    </tr>\n",
              "    <tr>\n",
              "      <th>21</th>\n",
              "      <td>2</td>\n",
              "      <td>Magma HDI General Insurance Co. Ltd. secure he...</td>\n",
              "      <td>Magma HDI General Insurance Co. Ltd.</td>\n",
              "      <td>secure health insurance plan</td>\n",
              "      <td>50</td>\n",
              "      <td>200000</td>\n",
              "      <td>420467</td>\n",
              "      <td>18 - 65</td>\n",
              "      <td>1</td>\n",
              "      <td>2000</td>\n",
              "      <td>Not Covered</td>\n",
              "      <td>Covered</td>\n",
              "      <td>Not Covered</td>\n",
              "      <td>30</td>\n",
              "      <td>60</td>\n",
              "      <td>95.00</td>\n",
              "      <td>Covered</td>\n",
              "      <td>4500</td>\n",
              "      <td>Covered</td>\n",
              "      <td>Not Covered</td>\n",
              "      <td>Not Covered</td>\n",
              "      <td>Covered</td>\n",
              "    </tr>\n",
              "    <tr>\n",
              "      <th>22</th>\n",
              "      <td>2</td>\n",
              "      <td>Magma HDI General Insurance Co. Ltd. support P...</td>\n",
              "      <td>Magma HDI General Insurance Co. Ltd.</td>\n",
              "      <td>support Plus health insurance plan</td>\n",
              "      <td>50</td>\n",
              "      <td>200000</td>\n",
              "      <td>458076</td>\n",
              "      <td>18 - 65</td>\n",
              "      <td>1</td>\n",
              "      <td>2500</td>\n",
              "      <td>Covered</td>\n",
              "      <td>Not Covered</td>\n",
              "      <td>0 - 25000</td>\n",
              "      <td>60</td>\n",
              "      <td>90</td>\n",
              "      <td>95.00</td>\n",
              "      <td>Covered</td>\n",
              "      <td>4500</td>\n",
              "      <td>Covered</td>\n",
              "      <td>Not Covered</td>\n",
              "      <td>Covered</td>\n",
              "      <td>Covered</td>\n",
              "    </tr>\n",
              "    <tr>\n",
              "      <th>23</th>\n",
              "      <td>2</td>\n",
              "      <td>Manipal Cigna Health Insurance Company Limited...</td>\n",
              "      <td>Manipal Cigna Health Insurance Company Limited</td>\n",
              "      <td>Manipalcigna prohealth group insurance</td>\n",
              "      <td>50</td>\n",
              "      <td>200000</td>\n",
              "      <td>436652</td>\n",
              "      <td>18 - 65</td>\n",
              "      <td>1</td>\n",
              "      <td>1000</td>\n",
              "      <td>Not Covered</td>\n",
              "      <td>Not Covered</td>\n",
              "      <td>Not Covered</td>\n",
              "      <td>30</td>\n",
              "      <td>60</td>\n",
              "      <td>91.00</td>\n",
              "      <td>Covered</td>\n",
              "      <td>7000</td>\n",
              "      <td>Covered</td>\n",
              "      <td>Not Covered</td>\n",
              "      <td>Not Covered</td>\n",
              "      <td>Covered</td>\n",
              "    </tr>\n",
              "  </tbody>\n",
              "</table>\n",
              "</div>"
            ],
            "text/plain": [
              "    cluster  ...     Covid_19\n",
              "0         2  ...      Covered\n",
              "2         2  ...  Not Covered\n",
              "11        2  ...  Not Covered\n",
              "20        2  ...  Not Covered\n",
              "21        2  ...      Covered\n",
              "22        2  ...      Covered\n",
              "23        2  ...      Covered\n",
              "\n",
              "[7 rows x 22 columns]"
            ]
          },
          "metadata": {
            "tags": []
          },
          "execution_count": 76
        }
      ]
    },
    {
      "cell_type": "markdown",
      "metadata": {
        "id": "hGKtlv2YGXL2"
      },
      "source": [
        "Cluster - 3 has 47 rows and 22 columns"
      ]
    },
    {
      "cell_type": "markdown",
      "metadata": {
        "id": "0Arjj-wpHjBQ"
      },
      "source": [
        "# **Modelling**"
      ]
    },
    {
      "cell_type": "markdown",
      "metadata": {
        "id": "KIj97ZJ4Cp7q"
      },
      "source": [
        "## **Recommendation Engine**"
      ]
    },
    {
      "cell_type": "code",
      "metadata": {
        "id": "dsfHQCwDCphF"
      },
      "source": [
        "cluster_1_df = Group_HI_cluster[Group_HI_cluster[\"cluster\"]==0]\n",
        "cs1 = cluster_1_df[['Provider_product','Premium_per_year']]\n",
        "cs1.reset_index(drop=True, inplace=True)\n",
        "\n",
        "cluster_2_df = Group_HI_cluster[Group_HI_cluster[\"cluster\"]==1]\n",
        "cs2 = cluster_2_df[['Provider_product','Premium_per_year']]\n",
        "cs2.reset_index(drop=True, inplace=True)\n",
        "\n",
        "cluster_3_df = Group_HI_cluster[Group_HI_cluster[\"cluster\"]==2]\n",
        "cs3 = cluster_3_df[['Provider_product','Premium_per_year']]\n",
        "cs3.reset_index(drop=True, inplace=True)"
      ],
      "execution_count": null,
      "outputs": []
    },
    {
      "cell_type": "code",
      "metadata": {
        "id": "bdXItYjc1v2f"
      },
      "source": [
        "#importing vectorize function\n",
        "from sklearn.feature_extraction.text import TfidfVectorizer \n",
        "\n",
        "# Creating a Tfidf Vectorizer to remove all stop words\n",
        "tfidf = TfidfVectorizer(stop_words = \"english\")    # taking stop words from tfid vectorizer \n",
        "\n",
        "# Preparing the Tfidf matrix by fitting and transforming\n",
        "tfidf_matrix = tfidf.fit_transform(cs2.Provider_product)\n",
        "tfidf_matrix.shape # (22,37)\n",
        "\n",
        "#Importing linear kernel\n",
        "from sklearn.metrics.pairwise import linear_kernel\n",
        "\n",
        "# Computing the cosine similarity on Tfidf matrix\n",
        "cosine_sim_matrix = linear_kernel(tfidf_matrix, tfidf_matrix)\n",
        "\n",
        "# creating a mapping of ent name to index number \n",
        "policy_index = pd.Series(cs2.index, index = cs2['Provider_product']).drop_duplicates()\n",
        "\n",
        "policy_id = policy_index[\"HDFC ERGO General Insurance Group Mediclaim Insurance\"]\n",
        "policy_id\n",
        "\n",
        "def get_recommendations(Name, topN):    \n",
        "    # topN = 10\n",
        "    # Getting the movie  category index using its title \n",
        "    policy_id = policy_index[Name]\n",
        "    \n",
        "    # Getting the pair wise similarity score for all the anime's with that \n",
        "    # anime\n",
        "    cosine_scores = list(enumerate(cosine_sim_matrix[policy_id]))\n",
        "    \n",
        "    # Sorting the cosine_similarity scores based on scores \n",
        "    cosine_scores = sorted(cosine_scores, key=lambda x:x[1], reverse = True)\n",
        "    \n",
        "    # Get the scores of top N most similar movies \n",
        "    cosine_scores_N = cosine_scores[0: topN+1]\n",
        "    \n",
        "    # Getting the movie category index \n",
        "    ent_idx  =  [i[0] for i in cosine_scores_N]\n",
        "    ent_scores =  [i[1] for i in cosine_scores_N]\n",
        "    \n",
        "    # Similar movies category and scores\n",
        "    policy_similar_category = pd.DataFrame(columns=[\"Provider_product\", \"Score\"])\n",
        "    policy_similar_category[\"Insurance_Provider_Name\"] = cs2.loc[ent_idx, \"Provider_product\"]\n",
        "    policy_similar_category[\"Score\"] = ent_scores\n",
        "    policy_similar_category.reset_index(inplace = True)  \n",
        "    # ent_similar_category.drop([\"index\"], axis=1, inplace=True)\n",
        "   \n",
        "    print (policy_similar_category)\n",
        "    # return (ent_similar_category)"
      ],
      "execution_count": null,
      "outputs": []
    },
    {
      "cell_type": "code",
      "metadata": {
        "colab": {
          "base_uri": "https://localhost:8080/",
          "height": 151
        },
        "id": "L2A_q4fE3oZt",
        "outputId": "3e6f847c-81bf-4045-cb46-f21cb8593755"
      },
      "source": [
        "# Enter your category and number of categories to be recommended \n",
        "recommendation = get_recommendations(\"The Oriental Insurance Co. Ltd. Group Medical Insaurance(Sliver Plan)\", topN = 3)\n",
        "recommendation "
      ],
      "execution_count": null,
      "outputs": [
        {
          "output_type": "stream",
          "text": [
            "   index  ...                            Insurance_Provider_Name\n",
            "0     21  ...  The Oriental Insurance Co. Ltd. Group Medical ...\n",
            "1     11  ...  Indian Medical Insurance policy Group Health I...\n",
            "2      7  ...                     Godigit Group Health insurance\n",
            "3     15  ...  Royal Sundaram General Insurance Co. Ltd. Grou...\n",
            "\n",
            "[4 rows x 4 columns]\n"
          ],
          "name": "stdout"
        },
        {
          "output_type": "execute_result",
          "data": {
            "text/html": [
              "<div>\n",
              "<style scoped>\n",
              "    .dataframe tbody tr th:only-of-type {\n",
              "        vertical-align: middle;\n",
              "    }\n",
              "\n",
              "    .dataframe tbody tr th {\n",
              "        vertical-align: top;\n",
              "    }\n",
              "\n",
              "    .dataframe thead th {\n",
              "        text-align: right;\n",
              "    }\n",
              "</style>\n",
              "<table border=\"1\" class=\"dataframe\">\n",
              "  <thead>\n",
              "    <tr style=\"text-align: right;\">\n",
              "      <th></th>\n",
              "    </tr>\n",
              "  </thead>\n",
              "  <tbody>\n",
              "  </tbody>\n",
              "</table>\n",
              "</div>"
            ],
            "text/plain": [
              "Empty DataFrame\n",
              "Columns: []\n",
              "Index: []"
            ]
          },
          "metadata": {
            "tags": []
          },
          "execution_count": 88
        }
      ]
    },
    {
      "cell_type": "code",
      "metadata": {
        "colab": {
          "base_uri": "https://localhost:8080/"
        },
        "id": "IkOEOgxM4M_I",
        "outputId": "20f63a28-9d99-452b-a57e-51aacb3ae0da"
      },
      "source": [
        "recommendation = get_recommendations(\"Care Health Insurance Basic\", topN = 3)\n",
        "recommendation "
      ],
      "execution_count": null,
      "outputs": [
        {
          "output_type": "stream",
          "text": [
            "   index  ...                            Insurance_Provider_Name\n",
            "0      3  ...                        Care Health Insurance Basic\n",
            "1      4  ...                     Care Health Insurance Standard\n",
            "2     19  ...                          State Bank Of India Basic\n",
            "3     17  ...  Star Health and Allied Insurance Co. Ltd. Clas...\n",
            "\n",
            "[4 rows x 4 columns]\n"
          ],
          "name": "stdout"
        }
      ]
    },
    {
      "cell_type": "code",
      "metadata": {
        "id": "m1BQf5mG5Ufd"
      },
      "source": [
        "### Create a Pickle file using serialization \n",
        "import pickle\n",
        "pickle_out = open(\"recommendation.pkl\",\"wb\")\n",
        "pickle.dump(recommendation, pickle_out)\n",
        "pickle_out.close()"
      ],
      "execution_count": null,
      "outputs": []
    }
  ]
}